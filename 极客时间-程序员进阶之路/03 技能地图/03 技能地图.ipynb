{
 "cells": [
  {
   "cell_type": "markdown",
   "metadata": {},
   "source": [
    "## 03 技能地图\n",
    "### 掌握\n",
    "1. 开发平台：客户端、Android\n",
    "   编程语言：Java\n",
    "   平台生态：生态体系内主流的技术框架和解决方案也是必选的掌握内容\n",
    "2. 常用算法\n",
    "   算法，表达的是一个计算的动态过程，它引入了一个度量标准：时空复杂度\n",
    "3. 数据结构\n",
    "  - 数组 Array\n",
    "  - 链表 Linked List\n",
    "  - 队列 Queues\n",
    "  - 堆栈 Stacks\n",
    "  - 散列 Hashes\n",
    "  - 集合 Sets\n",
    "  - 树 Trees\n",
    "  - 图 Graphs\n",
    "\n",
    "### 了解\n",
    "1. 数据存储\n",
    "  - SQL 关系型数据库（如：MySQL、Oracle）\n",
    "  - NoSQL 非关系型数据库（如：HBase、MongoDB）\n",
    "  - Cache 缓存（如：Redis、Memcached）\n",
    "2. 测试方法\n",
    "  - 开发方法论叫：测试驱动开发（TDD）\n",
    "3. 工程规范\n",
    "  - 代码结构\n",
    "  - 代码风格\n",
    "4. 开发流程\n",
    "  - 敏捷开发\n",
    "5. 源码管理\n",
    "  - git\n",
    "\n",
    "### 小结\n",
    "![程序员基础技能图](page1.png)"
   ]
  }
 ],
 "metadata": {
  "kernelspec": {
   "display_name": "Python 3",
   "language": "python",
   "name": "python3"
  },
  "language_info": {
   "codemirror_mode": {
    "name": "ipython",
    "version": 3
   },
   "file_extension": ".py",
   "mimetype": "text/x-python",
   "name": "python",
   "nbconvert_exporter": "python",
   "pygments_lexer": "ipython3",
   "version": "3.6.5"
  }
 },
 "nbformat": 4,
 "nbformat_minor": 2
}
