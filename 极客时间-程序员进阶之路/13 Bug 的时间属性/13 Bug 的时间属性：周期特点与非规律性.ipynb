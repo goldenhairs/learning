{
 "cells": [
  {
   "cell_type": "markdown",
   "metadata": {},
   "source": [
    "- Bug 有了时间属性，Bug 的出现就是一个概率性问题了\n",
    "\n",
    "### 周期特点\n",
    "- 周期特点，是一定频率出现的 Bug 的特征\n",
    "\n",
    "- 这类 Bug 因为会周期性地复现，相对还是容易捕捉和解决。比较典型的呈现此类特征的 Bug 一般是资源泄漏问题。比如，Java 程序员都不陌生的 OutOfMemory 错误，就属于内存泄漏问题，而且一定会周期性地出现。\n",
    "\n",
    "### 非规律性\n",
    "- 没有规律性的 Bug，才是让人抓狂的\n",
    "- 面对非规律性的 Bug，最困难的是不知道它的出现时机，但一旦找到它重现的条件，解决起来也没那么困难了。\n",
    "\n",
    "\n",
    "### 神出鬼没\n",
    "- 能称得上神出鬼没的 Bug 只有一种：海森堡 Bug（Heisenbug）\n",
    "\n",
    "- 海森堡 Bug 的出现场景通常都是和分布式的并发编程有关。\n",
    "\n",
    "- 通过常用的调试和诊断手段，诸如插入日志语句或是挂接调试器，往往会修改程序代码，或是更改变量的内存地址，或是改变其执行时序。这都影响了程序的行为，如果正好影响到了 Bug，就可能诞生了一个海森堡 Bug。\n",
    "\n",
    "#### 所有 Bug 的解决之道只有两类：事后和事前\n",
    "- 事后，就是指 Bug 出现后容易捕捉现场并定位解决的，比如第一类周期特点的 Bug。但对于没有明显重现规律，甚至神出鬼没的海森堡 Bug，靠抓现场重现的事后方法就比较困难了。针对这类 Bug，更通用和有效的方法就是在**事前**预防与埋伏。"
   ]
  }
 ],
 "metadata": {
  "kernelspec": {
   "display_name": "Python 3",
   "language": "python",
   "name": "python3"
  },
  "language_info": {
   "codemirror_mode": {
    "name": "ipython",
    "version": 3
   },
   "file_extension": ".py",
   "mimetype": "text/x-python",
   "name": "python",
   "nbconvert_exporter": "python",
   "pygments_lexer": "ipython3",
   "version": "3.6.5"
  }
 },
 "nbformat": 4,
 "nbformat_minor": 2
}
