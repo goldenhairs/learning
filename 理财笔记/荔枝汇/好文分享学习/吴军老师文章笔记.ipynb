{
 "cells": [
  {
   "cell_type": "markdown",
   "metadata": {},
   "source": [
    "## 谈投资\n",
    "- 学东西，一定要找个好师傅，如果遇到一个野路子的师傅，学一堆坏毛病，将来纠正也纠正不过来\n",
    "- 真正变成自己的东西还需要在实践中应用和进一步学习\n",
    "\n",
    "### 原则：\"不要有妄念\"\n",
    "- 很多人请专业人士作投资顾问时，总会提出这样两个要求：\n",
    "  - 能否保证某个百分点的长期回报，通常比较高，比如 15%\n",
    "  - 能否保本\n",
    "\n",
    "- 要同时做到上述两条，其实是不可能的\n",
    "  - 巴菲特做大了，那是特例，世界上总有一些特例发生\n",
    "\n",
    "- 高盛管理资产的目标不是做行业回报率第一，而是保证投资能够永远的复合增长下去，并且能够打败通货膨胀\n",
    "- 美国股市的平均回报是 8% 左右，长期比股市好 10% 的基金几乎不存在，这样的投资人也几乎不存在。\n",
    "  - 事实上，高盛十多年下来投资回报比美国标普五百指数还要差一些，那为什么还要给高盛投资呢？\n",
    "  - 因为 95% 的人都有赌徒心理，不适合自己投资，即使它最终赚走了你一半的回报，好歹还有另一半回报\n",
    "\n",
    "---"
   ]
  },
  {
   "cell_type": "code",
   "execution_count": null,
   "metadata": {},
   "outputs": [],
   "source": []
  }
 ],
 "metadata": {
  "kernelspec": {
   "display_name": "Python 3",
   "language": "python",
   "name": "python3"
  },
  "language_info": {
   "codemirror_mode": {
    "name": "ipython",
    "version": 3
   },
   "file_extension": ".py",
   "mimetype": "text/x-python",
   "name": "python",
   "nbconvert_exporter": "python",
   "pygments_lexer": "ipython3",
   "version": "3.6.5"
  }
 },
 "nbformat": 4,
 "nbformat_minor": 2
}
