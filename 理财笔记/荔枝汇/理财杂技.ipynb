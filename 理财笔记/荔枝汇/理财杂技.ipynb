{
 "cells": [
  {
   "cell_type": "markdown",
   "metadata": {},
   "source": [
    "## 股市税收\n",
    "1. 交易过程中，征收的印花税，目前是对卖出方按交易额的 0.1% 征收\n",
    "2. 股票红利税，这个大家相对比较熟悉，和基金分红收取的税费类似\n",
    "   - 持股超过 1 年的，税负为 5%；持股 1 个月至 1 年的，税负为 10%；持股 1 个月以内的，税负为 20%\n",
    "3. 资本利得税，二级市场交易的盈利部分暂不征收（征收了也没有鸡儿用，股民有几个盈利的？如果对亏损投资者进行补贴，估计证券市场市场会破产。在外国股市，这部分税费是免不了的）\n",
    "\n",
    "---"
   ]
  },
  {
   "cell_type": "code",
   "execution_count": null,
   "metadata": {},
   "outputs": [],
   "source": []
  }
 ],
 "metadata": {
  "kernelspec": {
   "display_name": "Python 3",
   "language": "python",
   "name": "python3"
  },
  "language_info": {
   "codemirror_mode": {
    "name": "ipython",
    "version": 3
   },
   "file_extension": ".py",
   "mimetype": "text/x-python",
   "name": "python",
   "nbconvert_exporter": "python",
   "pygments_lexer": "ipython3",
   "version": "3.6.5"
  }
 },
 "nbformat": 4,
 "nbformat_minor": 2
}
