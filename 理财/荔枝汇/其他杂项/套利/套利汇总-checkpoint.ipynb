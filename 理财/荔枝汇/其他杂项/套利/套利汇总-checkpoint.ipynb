{
 "cells": [
  {
   "attachments": {},
   "cell_type": "markdown",
   "metadata": {},
   "source": [
    "## 套利的概念\n",
    "- 假如你去集市上买东西，在集东头一个苹果卖 10 块钱，而在集西头你发现同样的苹果却只卖 8 块钱。那么肯定就会想到一种赚钱的方法：花 8 块钱从西头买苹果，然后在运到东头以 10 块钱的价格卖出，那么每个苹果你就能赚到 2 块钱，盈利 25%！\n",
    "> 所谓套利就是找到便宜的苹果，买便宜的苹果，然后以更高的价格卖出\n",
    "\n",
    "## 套利基金\n",
    "- LOF 基金又叫上市型开放式基金，它最大的特点就是既可以在场内交易也可以在场外交易\n",
    "- 既然在两个市场交易，那么就很容易出现两个不同的价格（这个说法其实是不严谨的，准确来说，场外的叫净值，场内的才叫价格），只要价格差距够大，那就有套利的空间\n",
    "- 华宝油气就是做套利的一个良好标的，华宝油气既是QDII也是LOF，也就是我们既能在华泰中买卖，也能从支付宝等场外平台申购赎回\n",
    "\n"
   ]
  },
  {
   "cell_type": "code",
   "execution_count": null,
   "metadata": {},
   "outputs": [],
   "source": []
  }
 ],
 "metadata": {
  "kernelspec": {
   "display_name": "Python 3",
   "language": "python",
   "name": "python3"
  },
  "language_info": {
   "codemirror_mode": {
    "name": "ipython",
    "version": 3
   },
   "file_extension": ".py",
   "mimetype": "text/x-python",
   "name": "python",
   "nbconvert_exporter": "python",
   "pygments_lexer": "ipython3",
   "version": "3.6.5"
  }
 },
 "nbformat": 4,
 "nbformat_minor": 2
}
