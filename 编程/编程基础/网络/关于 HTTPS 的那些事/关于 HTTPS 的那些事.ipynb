{
 "cells": [
  {
   "cell_type": "markdown",
   "metadata": {},
   "source": [
    "## HTTPS 概述\n",
    "> 维基百科定义：HTTPS（Hypertext Transfer Protocol Secure）是一种通过计算机网络进行安全通信的传输协议。HTTPS 经由 HTTP 进行通信，但利用 TLS 来加密数据包。HTTPS 开发的主要目的，是提供对网站服务器的身份认证，保护交换数据的隐私与完整性\n",
    "\n",
    "> TLS 是传输层加密协议，前身是 SSL 协议。由网景公司于 1995 年发布。后改名为 TLS。常用的 TLS 协议版本有：TLS1.2, TLS1.1, TLS1.0 和 SSL3.0。其中 SSL3.0 由于 POODLE 攻击已经被证明不安全。TLS1.0 也存在部分安全漏洞，比如 RC4 和 BEAST 攻击\n",
    "\n",
    "- HTTPS 相对 HTTP 提供了更安全的数据传输保障，体现在三个方面：\n",
    "  - 内容加密。客户端到服务器的内容都是以加密形式传输，中间者无法直接查看明文内容\n",
    "  - 身份认证。通过校验保证客户端访问的是自己的服务器\n",
    "  - 数据完整性。防止内容被第三方冒充或者篡改\n",
    "\n",
    "---"
   ]
  },
  {
   "cell_type": "markdown",
   "metadata": {},
   "source": [
    "## HTTPS 实现原理\n",
    "- HTTPS 结合了对称和非对称两种加密方式。即客户端使用对称加密生成密钥（key）对传输数据进行加密，然后使用非对称加密的公钥再对 key 进行加密。因此网络上传输的数据是被 key 加密的密文和用公钥加密后的密文 key。\n",
    "\n",
    "- 以 TLS 1.2 为例来认识 HTTPS 的握手过程\n",
    "  - 客户端发送 client_hello，包含一个随机数 random1\n",
    "  - 服务端回复 server_hello，包含一个随机数 random2，携带了证书公钥 P\n",
    "  - 客户端接收到 random2 之后就能够生成 premaster_secrect （对称加密的密钥）以及 master_secrect（用 premaster_secret 加密后的数据）\n",
    "  - 客户端使用证书公钥 P 将 premaster_secrect 加密后发送给服务器 (用公钥 P 对 premaster_secret 加密)\n",
    "  - 服务端使用私钥解密得到 premaster_secrect。又由于服务端之前就收到了随机数 1，所以服务端根据相同的生成算法，在相同的输入参数下，求出了相同的 master_secrect\n",
    "\n",
    "![image](page1.png)\n",
    "\n",
    "### 数字证书的两个作用\n",
    "  - 分发公钥：每个数字证书都包含了注册者生成的公钥。在 TLS 握手时会通过 certificate 消息传输给客户端\n",
    "  - 身份授权：确保客户端访问的网站是经过 CA 验证的可信任的网站。（在自签名证书的情况下可以验证是否是我们自己的服务器）\n",
    "\n",
    "---"
   ]
  },
  {
   "cell_type": "markdown",
   "metadata": {},
   "source": [
    "## 中间人攻击\n",
    "\n",
    "- 正常的网络请求\n",
    "![image](page2.png)\n",
    "\n",
    "- 如果有黑客在通信过程中拦截了这个请求。试想在客户端和服务端中间有一个中间人，两者之间的传输对中间人来说是透明的，那么中间人完全可以获取两端之间的任何数据并加以修改，然后转发给两端。\n",
    "  - 此时恶意服务端完全可以发起双向攻击：对上可以欺骗服务端，对下可以欺骗客户端，更严重的是客户端段和服务端完全感知不到已经被攻击了。\n",
    "\n",
    "![image](page3.png)\n",
    "\n",
    "> 中间人攻击（MITM 攻击）是指，黑客拦截并篡改网络中的通信数据。又分为被动 MITM 和主动 MITM，被动 MITM 只窃取通信数据而不修改，而主动 MITM 不但能窃取数据，还会篡改通信数据。最常见的中间人攻击常常发生在公共 wifi 或者公共路由上。\n",
    "\n",
    "- 证书是怎么样提高安全性\n",
    "![image](page4.png)\n",
    "\n",
    "---"
   ]
  }
 ],
 "metadata": {
  "kernelspec": {
   "display_name": "Python 3",
   "language": "python",
   "name": "python3"
  },
  "language_info": {
   "codemirror_mode": {
    "name": "ipython",
    "version": 3
   },
   "file_extension": ".py",
   "mimetype": "text/x-python",
   "name": "python",
   "nbconvert_exporter": "python",
   "pygments_lexer": "ipython3",
   "version": "3.6.5"
  }
 },
 "nbformat": 4,
 "nbformat_minor": 2
}
