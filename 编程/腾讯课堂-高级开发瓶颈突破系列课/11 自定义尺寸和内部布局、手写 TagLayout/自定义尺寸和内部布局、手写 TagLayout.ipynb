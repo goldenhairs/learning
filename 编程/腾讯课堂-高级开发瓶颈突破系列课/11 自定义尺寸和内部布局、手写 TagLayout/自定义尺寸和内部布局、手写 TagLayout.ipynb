{
 "cells": [
  {
   "cell_type": "markdown",
   "metadata": {},
   "source": [
    "## 概念\n",
    "### 布局过程\n",
    "- 确定每个 View 的位置和尺寸\n",
    "- 作用：为绘制和触摸范围做支持\n",
    "  - 绘制：知道往哪里绘制\n",
    "  - 触摸反馈：知道用户点的是哪里\n",
    "\n",
    "### 流程\n",
    "#### 整体\n",
    "- 测量流程\n",
    "  - 从根 View 递归调用每一级子 View 的 measure() 方法，对它们进行测量\n",
    "- 布局流程\n",
    "  - 从根 View 递归调用每一级子 View 的 layout() 方法，把测量过程得出的子 View 的位置和尺寸传给子 View，子 View 保存\n",
    "- 为什么要分两个流程?\n",
    "  - 测量过程比较复杂，且可能单个 view 会多次测量，且不同 view 之间会有依赖关系等\n",
    "  - 只有测量完全完成后，才能开始**布局流程**\n",
    "\n",
    "#### 个体\n",
    "1. 运行前，开发者在 xml 中配置布局属性，layout_xxx\n",
    "2. 父 View 在自己的 onMeasure() 中，根据 xml 中配置的对子 View 的要求，以及自己的可用空间，得出子 View 的具体尺寸\n",
    "3. 子 View 在自己的 onMeasure() 中，根据自己的特性，算出自己期望的尺寸\n",
    "4. 父 View 在子 View 计算出期望尺寸后，得出子 View 的实际尺寸和位置\n",
    "5. 子 View 在自己的 layout() 方法中，将父 View 传进来的自己的实际尺寸和位置保存\n",
    "   - 如果子 view 是 ViewGroup，还会在 onLayout() 里调用每个子 View 的 layout() 把它们的尺寸位置传给它们\n",
    "\n",
    "---"
   ]
  },
  {
   "cell_type": "markdown",
   "metadata": {},
   "source": [
    "## SquareImageView Demo\n",
    "- 学习案例，方形图片组件\n",
    "  - 重写 onMeasure 方法，取宽高中小的那个\n",
    "\n",
    "```\n",
    "public class SquareImageView extends androidx.appcompat.widget.AppCompatImageView {\n",
    "    private final String TAG = SquareImageView.class.getSimpleName();\n",
    "\n",
    "    public SquareImageView(Context context, @Nullable AttributeSet attrs) {\n",
    "        super(context, attrs);\n",
    "    }\n",
    "\n",
    "    @Override\n",
    "    protected void onMeasure(int widthMeasureSpec, int heightMeasureSpec) {\n",
    "        super.onMeasure(widthMeasureSpec, heightMeasureSpec);\n",
    "        int width = getMeasuredWidth();\n",
    "        int height = getMeasuredHeight();\n",
    "        int size = Math.min(width, height);\n",
    "        Log.d(TAG, \"width,height=\" + (width + \",\" + height) + \",size=\" + size);\n",
    "        setMeasuredDimension(size, size);\n",
    "    }\n",
    "}\n",
    "```\n",
    "\n",
    "---"
   ]
  },
  {
   "cell_type": "markdown",
   "metadata": {},
   "source": [
    "## CircleView Demo\n",
    "- 简单的圆形组件\n",
    "\n",
    "```\n",
    "public class CircleView extends View {\n",
    "    private final String TAG = CircleView.class.getSimpleName();\n",
    "\n",
    "    // 默认值\n",
    "    private final int PADDING = 30;\n",
    "    private final int RADIUS = 240;\n",
    "\n",
    "    private Paint mPaint = new Paint(Paint.ANTI_ALIAS_FLAG);\n",
    "\n",
    "    public CircleView(Context context, @Nullable AttributeSet attrs) {\n",
    "        super(context, attrs);\n",
    "        mPaint.setColor(getResources().getColor(android.R.color.holo_red_dark));\n",
    "    }\n",
    "\n",
    "    @Override\n",
    "    protected void onMeasure(int widthMeasureSpec, int heightMeasureSpec) {\n",
    "        int size = (PADDING + RADIUS) * 2;\n",
    "        int width = resolveSize(size, widthMeasureSpec);\n",
    "        int height = resolveSize(size, heightMeasureSpec);\n",
    "        Log.d(TAG, \"size=\" + size + \"; width,height=\" + width + \",\" + height);\n",
    "        setMeasuredDimension(width, height);\n",
    "    }\n",
    "\n",
    "    @Override\n",
    "    protected void onDraw(Canvas canvas) {\n",
    "        canvas.drawColor(getResources().getColor(android.R.color.black));\n",
    "        canvas.drawCircle(PADDING + RADIUS, PADDING + RADIUS, RADIUS, mPaint);\n",
    "    }\n",
    "}\n",
    "```\n",
    "\n",
    "---"
   ]
  },
  {
   "cell_type": "markdown",
   "metadata": {},
   "source": [
    "## TagLayout Demo\n",
    "- 内容比较多，见 TagLayout 目录下代码\n",
    "\n",
    "---"
   ]
  }
 ],
 "metadata": {
  "kernelspec": {
   "display_name": "Python 3",
   "language": "python",
   "name": "python3"
  },
  "language_info": {
   "codemirror_mode": {
    "name": "ipython",
    "version": 3
   },
   "file_extension": ".py",
   "mimetype": "text/x-python",
   "name": "python",
   "nbconvert_exporter": "python",
   "pygments_lexer": "ipython3",
   "version": "3.6.5"
  }
 },
 "nbformat": 4,
 "nbformat_minor": 2
}
