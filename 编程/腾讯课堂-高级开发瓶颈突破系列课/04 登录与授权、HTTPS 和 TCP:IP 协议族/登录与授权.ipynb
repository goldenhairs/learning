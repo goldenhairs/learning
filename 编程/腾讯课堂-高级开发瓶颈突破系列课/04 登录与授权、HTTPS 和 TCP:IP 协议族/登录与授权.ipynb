{
 "cells": [
  {
   "cell_type": "markdown",
   "metadata": {},
   "source": [
    "## 1. 登录和授权"
   ]
  },
  {
   "cell_type": "markdown",
   "metadata": {},
   "source": [
    "### 1.1. Cookie\n",
    "- 用途\n",
    "  - 会话管理：登录状态、购物车\n",
    "  - 个性化：用户偏好、主题\n",
    "  - tracking：分析用户行为\n",
    "- 起源：购物车\n",
    "- cookie 的工作机制\n",
    "![image](cookie01.png)\n",
    "![image](cookie02.png)\n",
    "\n",
    "- XSS(Cross-site scripting): HttpOnly\n",
    "- XSRF(Cross-site request forgery): Referer\n",
    "\n",
    "#### 1.1.1 cookie 管理登录状态\n",
    "![image](cookie03.png)\n",
    "![image](cookie04.png)\n",
    "\n",
    "---"
   ]
  },
  {
   "cell_type": "markdown",
   "metadata": {},
   "source": [
    "### 1.2. Authorization\n",
    "#### 1.2.1. Basic\n",
    "  - Authorization:Basic <username:password(Base64ed)>\n",
    "  ```\n",
    "  get /user http/1.1\n",
    "  host: xxxxx.xxx\n",
    "  Authorization: Basic xxxxx\n",
    "  ```\n",
    "\n",
    "#### 1.2.2. Bearer(token 方式)\n",
    "  - Authorization:Bearer token\n",
    "  - OAuth2\n",
    "    - ![image](OAuth2流程1.png)\n",
    "    - \n",
    "    - ![image](OAuth2流程2.png)\n",
    "    - \n",
    "    - ![image](OAuth2流程3.png)\n",
    "    - \n",
    "    \n",
    "  - 微信登录\n",
    "    - 完整的 OAuth2 流程\n",
    "    \n",
    "  - 自家 app 中使用 Bearer token\n",
    "  - refresh token\n",
    "    - 安全考虑\n",
    "    - 时效性\n",
    "\n",
    "---"
   ]
  },
  {
   "cell_type": "markdown",
   "metadata": {},
   "source": [
    "## 2. TCP/IP 协议族\n",
    "- 一系列协议所组成的一个网络分层模型\n",
    "- 为什么要分层\n",
    "  - 为了确保网络稳定性\n",
    "- 具体分层\n",
    "  - Transport Layer(传输层): TCP、UDP\n",
    "    - 提供端对端接口\n",
    "  - Internet Layer(网络层): IP\n",
    "    - 为数据包选择路由\n",
    "  - Link Layer(数据链路层): 以太网、WIFI\n",
    "    - 传输有地址的帧以及错误检测功能\n",
    "    - 以二进制媒体形式在物理媒体上传输数据\n",
    "\n",
    "### 2.1. TCP 连接\n",
    "- 什么叫做连接？\n",
    "  - 省去了创建连接的耗时\n",
    "\n",
    "- TCP 的连接\n",
    "  - ![三次握手](三次握手.png)\n",
    "\n",
    "- TCP 连接的关闭\n",
    "  - ![四次挥手](四次挥手.png)\n",
    "\n",
    "- 长连接\n",
    "  - 为什么要长连接？\n",
    "  - 长连接的实现方式: 心跳\n",
    "    - push 推送\n",
    "\n",
    "---"
   ]
  },
  {
   "cell_type": "markdown",
   "metadata": {},
   "source": [
    "## 3. HTTPS\n",
    "- HTTP over SSL\n",
    "- SSL: Secure Socket Layer -> TLS Transport Layer Secure\n",
    "- 定义: 在 HTTP 之下增加的一个安全屋，用于保障 HTTP 的加密传输\n",
    "- 本质: 在客户端和服务器之间协商出一个对称密钥，每次发送信息之前将内容加密，收到内容之后解密，达到内容的加密传输\n",
    "\n",
    "---"
   ]
  },
  {
   "cell_type": "markdown",
   "metadata": {},
   "source": [
    "### 3.1 HTTPS 链接\n",
    "- 客户端请求建立 TLS 链接\n",
    "- 服务器发回证书\n",
    "- 客户端验证服务器证书\n",
    "- 客户端信任服务器后，协商出对策密钥\n",
    "- 使用对称密钥开始通信\n",
    "\n",
    "![image](https链接.png)\n",
    "\n",
    "---"
   ]
  },
  {
   "cell_type": "markdown",
   "metadata": {},
   "source": [
    "## 4. 在 Android 中使用\n",
    "- 正常情况: 直接使用\n",
    "- 什么时候会不行？\n",
    "  - 用的是自签名证书(例如只用于内网的 https)\n",
    "  - 证书信息不全，缺乏证书机构信息\n",
    "  - 手机操作系统较旧，没有安装最新加入的根证书\n",
    "- 怎么办\n",
    "  - 自己写证书验证过程\n",
    "\n",
    "---"
   ]
  }
 ],
 "metadata": {
  "kernelspec": {
   "display_name": "Python 3",
   "language": "python",
   "name": "python3"
  },
  "language_info": {
   "codemirror_mode": {
    "name": "ipython",
    "version": 3
   },
   "file_extension": ".py",
   "mimetype": "text/x-python",
   "name": "python",
   "nbconvert_exporter": "python",
   "pygments_lexer": "ipython3",
   "version": "3.6.5"
  }
 },
 "nbformat": 4,
 "nbformat_minor": 2
}
