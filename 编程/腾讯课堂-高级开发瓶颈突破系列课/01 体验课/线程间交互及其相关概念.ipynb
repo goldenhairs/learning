{
 "cells": [
  {
   "cell_type": "markdown",
   "metadata": {},
   "source": [
    "## 01. interrupt\n",
    "- thread.stop()\n",
    "  - 强行中断，类似于断电状态，线程中操作立即停止\n",
    "  - *方法已经被废弃*\n",
    "\n",
    "- thread.interrupt()\n",
    "  - 通知对应线程，可以中断操作了；如果线程正在执行，则会执行完成；\n",
    "  - 如果 thread 处于休眠状态，则线程中会抛出 InterruptedException\n",
    "\n",
    "- Thread.interrupted()\n",
    "  - 判断当前线程是否被终止了(即是否调用了 thread.interrupt())\n",
    "  - 执行判断后，会重置 thread 的 interrupt 状态\n",
    "  \n",
    "- interrupted()\n",
    "  - 判断当前线程是否被终止了(如果在线程中判断，则一直是 true)\n",
    "\n",
    "---"
   ]
  },
  {
   "cell_type": "markdown",
   "metadata": {},
   "source": [
    "## 02. wait\n",
    "- 交出当前线程锁并等待唤醒\n",
    "```\n",
    "public synchronize void printString() {\n",
    "    while (mString == null) {\n",
    "        try {\n",
    "           wait();\n",
    "        } catch (InterruptedException e) {\n",
    "           e.printStackTrace();\n",
    "        }\n",
    "    }\n",
    "    System.out.println(\"print string=\" + mString);\n",
    "}\n",
    "```\n",
    "\n",
    "- 初始化完成后，唤醒其他 wait 线程\n",
    "```\n",
    "public synchronize void initString() {\n",
    "    mString = \"init string\";\n",
    "    notifyAll();\n",
    "}\n",
    "```\n",
    "\n",
    "---"
   ]
  },
  {
   "cell_type": "markdown",
   "metadata": {},
   "source": [
    "## 03. join\n",
    "- 阻塞当前线程，并等待 join 线程执行完成后，继续执行\n",
    "\n",
    "```\n",
    "Thread t = new Thread(); \n",
    "t.start();\n",
    "t.join();\n",
    "```\n",
    "\n",
    "---"
   ]
  },
  {
   "cell_type": "markdown",
   "metadata": {},
   "source": [
    "## 04. yield\n",
    "- 造成当前正在执行的线程对象临时性的暂停，并允许其他线程去执行\n",
    "\n",
    "---"
   ]
  }
 ],
 "metadata": {
  "kernelspec": {
   "display_name": "Python 3",
   "language": "python",
   "name": "python3"
  },
  "language_info": {
   "codemirror_mode": {
    "name": "ipython",
    "version": 3
   },
   "file_extension": ".py",
   "mimetype": "text/x-python",
   "name": "python",
   "nbconvert_exporter": "python",
   "pygments_lexer": "ipython3",
   "version": "3.6.5"
  }
 },
 "nbformat": 4,
 "nbformat_minor": 2
}
