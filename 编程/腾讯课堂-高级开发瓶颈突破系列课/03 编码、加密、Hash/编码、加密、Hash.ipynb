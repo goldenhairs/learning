{
 "cells": [
  {
   "cell_type": "markdown",
   "metadata": {},
   "source": [
    "## 01. 提纲\n",
    "- 编码解码\n",
    "- 加密解密\n",
    "- 数字签名\n",
    "- 压缩与解压缩\n",
    "- 序列化\n",
    "- 哈希\n",
    "- 字符集\n",
    "\n",
    "### 相关词\n",
    "- MD5、SHA1、RSA、DSA、AES、BASE64、encoded、URL、Unicode、UTF-8、GBK、ISO-8859-1\n",
    "\n",
    "---"
   ]
  },
  {
   "cell_type": "markdown",
   "metadata": {},
   "source": [
    "## 02. 密码学\n",
    "- 起源：古代战争 —— 古典密码学\n",
    "- 移位式加密：密码棒\n",
    "  - 加密算法：缠绕木棒后书写\n",
    "  - 密钥：木棒的尺寸规格\n",
    "- 替换式加密\n",
    "  - 加密算法：替换文字\n",
    "  - 密钥：码表\n",
    "\n",
    "### 现代密码学\n",
    "- 不止可以用于文字内容，还可以用于各种二进制数据\n",
    "- 对称加密\n",
    "  - 原理: 使用密钥和加密算法对数据进行转换，得到的无意义数据即为密文；使用密钥和解密算法对密文进行逆向转换，得到原始数据\n",
    "  - 经典算法：DES(密钥短，逐渐弃用)、AES\n",
    "- 非对称加密\n",
    "  - 原理: 使用公钥对数据进行加密得到密文；使用私钥对数据解密的到原数据\n",
    "  - 延伸用途：数字签名\n",
    "  - 经典算法：RAS、DSA\n",
    "\n",
    "### 密码学密钥和登录密码\n",
    "- 密钥\n",
    "  - 场景：用于加密和解密\n",
    "  - 目的：保证数据被盗时不会被人读懂内容\n",
    "  - 焦点：数据\n",
    "- 登录密码\n",
    "  - 场景：用户进入网站或游戏前的身份验证\n",
    "  - 目的：数据提供方对账号拥有者数据的保护，保证【你是你】的时候才提供权限\n",
    "  - 焦点：身份\n",
    "  \n",
    "### base64\n",
    "- 将二进制数据转换成由 64 个字符组成的字符串的编码算法\n",
    "- 什么是二进制数据？\n",
    "  - 非文本数据\n",
    "- a~z,A~Z,0~9,+,/\n",
    "\n",
    "### url encoding\n",
    "- 游览器处理\n",
    "\n",
    "### 压缩与解压缩\n",
    "- 压缩：减少存储空间\n",
    "- 解压缩：使用原始数据\n",
    "- 常用算法：DEFLATE、JPEG、MP3\n",
    "\n",
    "### 媒体数据的编解码\n",
    "- 图片的编码：把图片数据写成 JPG、PNG 等文件的编码格式\n",
    "- 图片的解码：把 JPG、PNG 等文件中的数据解析成标准的图像数据\n",
    "\n",
    "### 序列化\n",
    "- 把数据对象(一般是内存中的，例如 JVM 中的对象)转换成字节序列的过程\n",
    "- 反序列化：把字节序列重新转换成内存中的对象\n",
    "\n",
    "#### hash\n",
    "- 定义：把任意数据转换成指定大小范围（通常很小）的数据\n",
    "- 作用：摘要、数字指纹\n",
    "- 经典算法：MD5、SHA1、SHA256 等\n",
    "- 实际用途\n",
    "  - 数据完整性验证\n",
    "  - 快速查找：hashCode() 和 HashMap\n",
    "  - 隐私保护\n",
    "  \n",
    "### 字符集\n",
    "- 含义：一个由整数向*现实世界中的文字符号*的 Map\n",
    "- 分支\n",
    "  - ASCII：128 个字符，1字节\n",
    "  - ISO-8859-1：对 ASCII 进行扩充，1字节\n",
    "  - Unicode：13 万个字符，多字节\n",
    "    - UTF-8：Unicode 的编码分支\n",
    "    - UTF-16：Unicode 的编码分支\n",
    "  - GBK/GB2312/GB18030：中国自研标准，多字节，字符集 + 编码\n",
    "\n",
    "---"
   ]
  },
  {
   "cell_type": "markdown",
   "metadata": {},
   "source": [
    "## 03 非对称加密\n",
    "![image](非对称加密.png)"
   ]
  },
  {
   "cell_type": "code",
   "execution_count": null,
   "metadata": {},
   "outputs": [],
   "source": []
  }
 ],
 "metadata": {
  "kernelspec": {
   "display_name": "Python 3",
   "language": "python",
   "name": "python3"
  },
  "language_info": {
   "codemirror_mode": {
    "name": "ipython",
    "version": 3
   },
   "file_extension": ".py",
   "mimetype": "text/x-python",
   "name": "python",
   "nbconvert_exporter": "python",
   "pygments_lexer": "ipython3",
   "version": "3.6.5"
  }
 },
 "nbformat": 4,
 "nbformat_minor": 2
}
