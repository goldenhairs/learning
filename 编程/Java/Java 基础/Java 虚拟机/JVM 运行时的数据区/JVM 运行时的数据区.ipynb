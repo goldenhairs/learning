{
 "cells": [
  {
   "cell_type": "markdown",
   "metadata": {},
   "source": [
    "## JVM 运行时数据区分类\n",
    "- 程序计数器 (Program Counter (PC) Register)\n",
    "- JVM栈 (Java Virtual Machine Stacks)\n",
    "- 堆内存 (Heap Memory)\n",
    "- 方法区 (Method Area)\n",
    "- 运行时常量池 (Run-time Constant Pool)\n",
    "- 本地方法栈 (Native Method Stacks)\n",
    "\n",
    "![image](page1.png)\n",
    "\n",
    "---"
   ]
  },
  {
   "cell_type": "markdown",
   "metadata": {},
   "source": [
    "## 按线程持有划分\n",
    "- 单个线程私有(Managed Per-Thread)：这些数据区在其所属的线程创建时初始化，并随着所属线程结束被销毁\n",
    "  - 程序计数器\n",
    "  - JVM 栈\n",
    "  - 本地方法栈\n",
    "\n",
    "- 多个线程共享：这些数据区可以被每一个线程访问，他们随着JVM启动而初始化，同时伴随JVM关闭而销毁\n",
    "  - 堆内存\n",
    "  - 方法区\n",
    "  - 运行时常量池\n",
    "  \n",
    "---"
   ]
  },
  {
   "cell_type": "markdown",
   "metadata": {},
   "source": [
    "## 程序计数器\n",
    "- 程序计数器用来记录当前正在执行的指令\n",
    "- 程序计数器是线程私有，所以当一个新的线程创建时，程序计数器也会创建\n",
    "- 如果当前正在执行的方法是本地方法，那么此刻程序计数器的值为 undefined\n",
    "- 这个区域是唯一一个不抛出 OutOfMemoryError 的运行时数据区\n",
    "\n",
    "---"
   ]
  },
  {
   "cell_type": "markdown",
   "metadata": {},
   "source": [
    "## JVM 栈\n",
    "- JVM 栈只对栈帧进行存储，压栈和出栈操作\n",
    "- 栈内存的大小可以有两种设置，固定值和根据线程需要动态增长\n",
    "- 在 JVM 栈这个数据区可能会发生抛出两种错误\n",
    "  - StackOverflowError： 出现在栈内存设置成固定值的时候，当程序执行需要的栈内存超过设定的固定值会抛出这个错误\n",
    "  - OutOfMemoryError： 出现在栈内存设置成动态增长的时候，当 JVM 尝试申请的内存大小超过了其可用内存时会抛出这个错误\n",
    "\n",
    "### 栈帧\n",
    "- 一个栈帧随着一个方法的调用开始而创建，这个方法调用完成而销毁\n",
    "- 栈帧内存放着方法中的局部变量，操作数栈等数据\n",
    "\n",
    "---"
   ]
  },
  {
   "cell_type": "markdown",
   "metadata": {},
   "source": [
    "## 堆数据区\n",
    "- 用来存放对象和数组（特殊的对象）\n",
    "- 堆内存由多个线程共享\n",
    "- 堆内存随着 JVM 启动而创建\n",
    "- 如果堆内存剩余的内存不足以满足于对象创建，JVM 会抛出 OutOfMemoryError 错误\n",
    "\n",
    "---"
   ]
  },
  {
   "cell_type": "markdown",
   "metadata": {},
   "source": [
    "## 方法区\n",
    "- 在 JVM 规范中，方法区被视为堆内存的一个逻辑部分。这一点可能由于具体的JVM实现而不同，甚至在方法区不实现垃圾回收处理也是可以的\n",
    "- 方法区和堆内存一样被多个线程访问，方法区中存放类的信息，比如类加载器引用，属性，方法代码和构造方法和常量等\n",
    "- 当方法区的可用内存无法满足内存分配需求时，JVM 会抛出 OutOfMemoryError 错误\n",
    "\n",
    "---"
   ]
  },
  {
   "cell_type": "markdown",
   "metadata": {},
   "source": [
    "## 运行时常量池\n",
    "- 运行时常量池创建在方法区，当一个类或者一个接口被创建的时候，JVM 会创建一个运行时常量池\n",
    "- 一个运行时常量池实际上是一个类或者接口的 class 文件中常量池表（constant_pool table）的运行时展示形式\n",
    "- 一个运行时常量池包含了多种类型的常量，从诸如运行时可以确定的数值型字面量到运行时才能决定的方法和属性引用\n",
    "- 当运行时常量池无法满足于内存分配需求时，JVM 会抛出 OutOfMemoryError 错误\n",
    "\n",
    "---"
   ]
  },
  {
   "cell_type": "markdown",
   "metadata": {},
   "source": [
    "## 本地方法栈\n",
    "- 一个支持 native 方法调用的 JVM 实现，需要有这样一个数据区，就是本地方法栈\n",
    "- 一个不支持本地方法执行的 JVM 没有必要实现这个数据区域\n",
    "- 本地方法栈基本和 JVM 栈一样，其大小也是可以设置为固定值或者动态增加，因此也会对应抛出 StackOverflowError 和 OutOfMemoryError 错误\n",
    "\n",
    "---"
   ]
  }
 ],
 "metadata": {
  "kernelspec": {
   "display_name": "Python 3",
   "language": "python",
   "name": "python3"
  },
  "language_info": {
   "codemirror_mode": {
    "name": "ipython",
    "version": 3
   },
   "file_extension": ".py",
   "mimetype": "text/x-python",
   "name": "python",
   "nbconvert_exporter": "python",
   "pygments_lexer": "ipython3",
   "version": "3.6.5"
  }
 },
 "nbformat": 4,
 "nbformat_minor": 2
}
