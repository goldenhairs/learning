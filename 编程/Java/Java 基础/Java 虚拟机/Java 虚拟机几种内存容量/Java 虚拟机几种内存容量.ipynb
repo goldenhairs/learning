{
 "cells": [
  {
   "cell_type": "markdown",
   "metadata": {},
   "source": [
    "## Android 内存管理\n",
    "- 信息储存在手机中 /system/build.prop 配置文件中\n",
    "\n",
    "```\n",
    "# VIVO X9 数据展示\n",
    "adb shell\n",
    "PD1616:/ $ cat /system/build.prop\n",
    "\n",
    "dalvik.vm.heapgrowthlimit=256m\n",
    "dalvik.vm.heapsize=512m\n",
    "dalvik.vm.heapminfree=4m\n",
    "dalvik.vm.heapstartsize=16m\n",
    "dalvik.vm.heaptargetutilization=0.75\n",
    "dalvik.vm.heapmaxfree=8m\n",
    "```\n",
    "\n",
    "---"
   ]
  },
  {
   "cell_type": "markdown",
   "metadata": {},
   "source": [
    "### 说明\n",
    "- dalvik.vm.heapstartsize\n",
    "  - 为一个应用初始分配的堆大小，越大意味着应用第一次启动时越流畅，但也意味着内存耗用越快\n",
    "- dalvik.vm.heapgrowthlimit\n",
    "  - 单个应用可使用的最大内存堆大小\n",
    "- dalvik.vm.heapsize\n",
    "  - 表示应用在 manifest 中配置 android:largeHeap=\"true\" 时可使用的最大内存堆大小\n",
    "  \n",
    "---"
   ]
  },
  {
   "cell_type": "markdown",
   "metadata": {},
   "source": [
    "## 获取内存配置\n",
    "```\n",
    "Log.e(\"henry\", \"max memory = \" + Runtime.getRuntime().maxMemory());\n",
    "Log.e(\"henry\", \"free memory = \" + Runtime.getRuntime().freeMemory());\n",
    "Log.e(\"henry\", \"total memory = \" + Runtime.getRuntime().totalMemory());\n",
    "\n",
    "ActivityManager am = (ActivityManager) getSystemService(ACTIVITY_SERVICE);\n",
    "Log.e(\"henry\", \"memoryClass = \" + Integer.toString(am.getMemoryClass()));\n",
    "Log.e(\"henry\", \"largememoryClass = \" + Integer.toString(am.getLargeMemoryClass()));\n",
    "```\n",
    "\n",
    "### 说明\n",
    "- maxMemory()\n",
    "> 对应到 build.prop 中的信息就是在未设置 largeHeap 为 true 时会返回 heapgrowthlimit 的大小；而设置了 largeHeap 为 true 后，则返回heapsize 大小(单位为 Bytes)\n",
    "\n",
    "- getMemoryClass()\n",
    "> 所获得的大小不受 largeHeap 配置影响，永远是 heapgrowthlimit 中大小(单位为 M)\n",
    "\n",
    "- getLargeMemoryClass\n",
    "> 为 heapsize 大小(单位为 M)\n",
    "\n",
    "- totalMemory()\n",
    "  - 虽然虚拟机可以向操作系统申请内存，但是申请大小是受到限制的，而且申请过程也是一个动态的过程，即使用多少，申请多少直到最大值，这样可以减少维护内存的开销。\n",
    "\n",
    "> 用于获取当前虚拟机进程从操作系统申请的内存大小\n",
    "\n",
    "- freeMemory()\n",
    "  - 为什么说是空余量呢，因为虽然虚拟机会动态申请内存，用多少申请多少，但是它仍然不能保证申请到的内存就一定够用，所以它每次申请的内存会有一点空余，那么通过这个方法就可以知道当前虚拟机有多大的空余内存。\n",
    "\n",
    "> 用于获得当虚拟机进程从操作系统申请的内存空余量\n",
    "\n",
    "![image](page1.png)\n",
    "\n",
    "---"
   ]
  }
 ],
 "metadata": {
  "kernelspec": {
   "display_name": "Python 3",
   "language": "python",
   "name": "python3"
  },
  "language_info": {
   "codemirror_mode": {
    "name": "ipython",
    "version": 3
   },
   "file_extension": ".py",
   "mimetype": "text/x-python",
   "name": "python",
   "nbconvert_exporter": "python",
   "pygments_lexer": "ipython3",
   "version": "3.6.5"
  }
 },
 "nbformat": 4,
 "nbformat_minor": 2
}
