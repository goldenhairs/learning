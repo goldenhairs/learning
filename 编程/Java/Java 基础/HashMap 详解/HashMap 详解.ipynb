{
 "cells": [
  {
   "cell_type": "markdown",
   "metadata": {},
   "source": [
    "## 1. 概要\n",
    "### 基本概念\n",
    "- HashMap 是一个关联数组、哈希表，它是线程不安全的，允许 key 为 null, value 为 null，遍历时无序。\n",
    "- 其底层数据结构是数组称之为哈希桶，每个桶里面放的是链表，链表中的每个节点，就是哈希表中的每个元素。\n",
    "- 在 JDK8 中，当链表长度达到 8，会转化成红黑树，以提升它的查询、插入效率，它实现了 Map<K,V>, Cloneable, Serializable 接口。\n",
    "\n",
    "### 扩容\n",
    "- 由于底层哈希桶使用的是数组结构，所以存在扩容情况，当达到 threshold 域值时就会触发扩容，扩容前后的大小都为 2 的 n 次方（为了通过 hash 值取余操作来计算数组位置）\n",
    "- 因为扩容是容量翻倍，所以原链表上的每个节点，现在可能存放在原来的下标，即 low 位，或者扩容后的下标，即 high 位。high 位 = low 位 + 原哈希桶容量\n",
    "\n",
    "![image](page1.webp)\n",
    "\n",
    "---"
   ]
  },
  {
   "cell_type": "markdown",
   "metadata": {},
   "source": [
    "## 2. 链表节点 Node\n",
    "- 这是一个单链表\n",
    "\n",
    "```\n",
    "static class Node<K, V> implements Map.Entry<K, V> {\n",
    "    final int hash;   // 哈希值\n",
    "    final K key;      // key\n",
    "    V value;          // value\n",
    "    Node<K, V> next;   // 链表后置节点\n",
    "\n",
    "    Node(int hash, K key, V value, Node<K, V> next) {\n",
    "        this.hash = hash;\n",
    "        this.key = key;\n",
    "        this.value = value;\n",
    "        this.next = next;\n",
    "    }\n",
    "\n",
    "    public final K getKey()        { return key; }\n",
    "    public final V getValue()      { return value; }\n",
    "    public final String toString() { return key + \"=\" + value; }\n",
    "\n",
    "    // 每一个节点的 hash 值，是将 key 的 hashCode 和 value 的 hashCode 亦或得到的。\n",
    "    public final int hashCode() {\n",
    "        return Objects.hashCode(key) ^ Objects.hashCode(value);\n",
    "    }\n",
    "    \n",
    "    // 设置新的 value 同时返回旧 value\n",
    "    public final V setValue(V newValue) {\n",
    "        V oldValue = value;\n",
    "        value = newValue;\n",
    "        return oldValue;\n",
    "    }\n",
    "\n",
    "    public final boolean equals(Object o) {\n",
    "        if (o == this)\n",
    "            return true;\n",
    "            \n",
    "        if (o instanceof Map.Entry) {\n",
    "            Map.Entry<?,?> e = (Map.Entry<?,?>)o;\n",
    "            if (Objects.equals(key, e.getKey()) && Objects.equals(value, e.getValue()))\n",
    "                return true;\n",
    "        }\n",
    "        return false;\n",
    "    }\n",
    "}\n",
    "```\n",
    "\n",
    "---"
   ]
  },
  {
   "cell_type": "markdown",
   "metadata": {},
   "source": [
    "## 3. 构造函数\n",
    "\n",
    "\n",
    "---"
   ]
  },
  {
   "cell_type": "code",
   "execution_count": null,
   "metadata": {},
   "outputs": [],
   "source": []
  }
 ],
 "metadata": {
  "kernelspec": {
   "display_name": "Python 3",
   "language": "python",
   "name": "python3"
  },
  "language_info": {
   "codemirror_mode": {
    "name": "ipython",
    "version": 3
   },
   "file_extension": ".py",
   "mimetype": "text/x-python",
   "name": "python",
   "nbconvert_exporter": "python",
   "pygments_lexer": "ipython3",
   "version": "3.6.5"
  }
 },
 "nbformat": 4,
 "nbformat_minor": 2
}
