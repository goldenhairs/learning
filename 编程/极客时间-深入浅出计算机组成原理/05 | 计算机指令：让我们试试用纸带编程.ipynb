{
 "cells": [
  {
   "cell_type": "markdown",
   "metadata": {},
   "source": [
    "## 从编译到汇编，代码怎么变成机器码？\n",
    "- 高级语言 -> 汇编语言（编译）-> 机器码（汇编器）\n",
    "\n",
    "### C 语言 demo\n",
    "```\n",
    "// test.c\n",
    "int main()\n",
    "{\n",
    "  int a = 1; \n",
    "  int b = 2;\n",
    "  a = a + b;\n",
    "}\n",
    "```\n",
    "\n",
    "---"
   ]
  },
  {
   "cell_type": "markdown",
   "metadata": {},
   "source": [
    "### 转换为汇编语言\n",
    "- Linux 操作系统上，可以简单地使用 gcc 和 objdump 这样两条命令，打印汇编代码和机器码\n",
    "```\n",
    "$ gcc -g -c test.c\n",
    "$ objdump -d -M intel -S test.o\n",
    "```\n",
    "\n",
    "\n",
    "```\n",
    "test.o:     file format elf64-x86-64\n",
    "Disassembly of section .text:\n",
    "0000000000000000 <main>:\n",
    "int main()\n",
    "{\n",
    "   0:   55                      push   rbp\n",
    "   1:   48 89 e5                mov    rbp,rsp\n",
    "  int a = 1; \n",
    "   4:   c7 45 fc 01 00 00 00    mov    DWORD PTR [rbp-0x4],0x1\n",
    "  int b = 2;\n",
    "   b:   c7 45 f8 02 00 00 00    mov    DWORD PTR [rbp-0x8],0x2\n",
    "  a = a + b;\n",
    "  12:   8b 45 f8                mov    eax,DWORD PTR [rbp-0x8]\n",
    "  15:   01 45 fc                add    DWORD PTR [rbp-0x4],eax\n",
    "}\n",
    "  18:   5d                      pop    rbp\n",
    "  19:   c3                      ret    \n",
    "```\n",
    "\n",
    "![image](lesson5_01.png)\n",
    "\n",
    "---"
   ]
  },
  {
   "cell_type": "markdown",
   "metadata": {},
   "source": [
    "#### 指令解析\n",
    "![image](lesson5_02.png)\n",
    "\n",
    "#### 最简单的 MIPS 指令集\n",
    "![image](lesson5_03.png)\n",
    "\n",
    "- MIPS 的指令是一个 32 位的整数，高 6 位叫操作码（Opcode），剩下的 26 位有三种格式，分别是 R、I 和 J\n",
    "  - R 指令\n",
    "    - 用来做算术和逻辑操作，里面有读取和写入数据的寄存器的地址\n",
    "    - 如果是逻辑位移操作，后面还有位移操作的位移量\n",
    "    - 功能码，则是在前面的操作码不够的时候，扩展操作码表示对应的具体指令\n",
    "  - I 指令\n",
    "    - 通常是用在数据传输、条件分支，以及在运算的时候使用的并非变量还是常数的时候\n",
    "    - 此时没有了位移量和操作码，也没有了第三个寄存器，而是把这三部分直接合并成了一个地址值或者一个常数\n",
    "  - J 指令：\n",
    "    - 一个跳转指令，高 6 位之外的 26 位都是一个跳转后的地址\n",
    "    \n",
    "---"
   ]
  },
  {
   "cell_type": "markdown",
   "metadata": {},
   "source": [
    "##### demo\n",
    "- 一个简单的加法算术指令 demo：\\$add t0, s1, \\$s2*, 下面都用十进制来表示对应的代码。\n",
    "  - 对应的 MIPS 指令里 opcode 是 0\n",
    "  - rs 代表第一个寄存器 s1 的地址是 17\n",
    "  - rt 代表第二个寄存器 s2 的地址是 18\n",
    "  - rd 代表目标的临时寄存器 t0 的地址，是 8\n",
    "  - 不是位移操作，所以位移量是 0\n",
    "\n",
    "![image](lesson5_04.png)\n",
    "\n",
    "---"
   ]
  },
  {
   "cell_type": "code",
   "execution_count": null,
   "metadata": {},
   "outputs": [],
   "source": []
  }
 ],
 "metadata": {
  "kernelspec": {
   "display_name": "Python 3",
   "language": "python",
   "name": "python3"
  },
  "language_info": {
   "codemirror_mode": {
    "name": "ipython",
    "version": 3
   },
   "file_extension": ".py",
   "mimetype": "text/x-python",
   "name": "python",
   "nbconvert_exporter": "python",
   "pygments_lexer": "ipython3",
   "version": "3.6.5"
  }
 },
 "nbformat": 4,
 "nbformat_minor": 2
}
