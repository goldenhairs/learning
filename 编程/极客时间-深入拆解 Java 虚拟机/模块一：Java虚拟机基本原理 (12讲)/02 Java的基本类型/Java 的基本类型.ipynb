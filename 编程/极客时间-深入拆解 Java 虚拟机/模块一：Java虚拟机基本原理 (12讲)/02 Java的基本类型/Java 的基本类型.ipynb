{
 "cells": [
  {
   "cell_type": "markdown",
   "metadata": {},
   "source": [
    "## 基本类型在虚拟机中的实现\n",
    "![Java 的基本类型](Java 的基本类型.png)\n",
    "\n",
    "---"
   ]
  },
  {
   "cell_type": "markdown",
   "metadata": {},
   "source": [
    "## demo\n",
    "- 通过字节码工具修改\n",
    "```\n",
    "public class Foo {\n",
    "  public static void main(String[] args) {\n",
    "    boolean 吃过饭没 = 2; // 直接编译的话 javac 会报错\n",
    "    if (吃过饭没) System.out.println(\"吃了\");\n",
    "    if (true == 吃过饭没) System.out.println(\"真吃了\");\n",
    "  }\n",
    "}\n",
    "```\n",
    "\n",
    "- 转换到虚拟机内部时候\n",
    "  - if (吃过饭没) -> 吃过几碗饭，即 吃过饭没 为 0，则跳过后面打印语句\n",
    "  - if (true == 吃过饭没)，即 吃过饭没 != 1，则跳过后面打印语句\n",
    "```\n",
    "# Foo.main编译后的字节码\n",
    " 0: iconst_2       // 我们用AsmTools更改了这一指令\n",
    " 1: istore_1\n",
    " 2: iload_1\n",
    " 3: ifeq 14        // 第一个if语句，即操作数栈上数值为0时跳转\n",
    " 6: getstatic java.lang.System.out\n",
    " 9: ldc \"吃了\"\n",
    "11: invokevirtual java.io.PrintStream.println\n",
    "14: iload_1\n",
    "15: iconst_1\n",
    "16: if_icmpne 27   // 第二个if语句，即操作数栈上两个数值不相同时跳转\n",
    "19: getstatic java.lang.System.out\n",
    "22: ldc \"真吃了\"\n",
    "24: invokevirtual java.io.PrintStream.println\n",
    "27: return\n",
    "```\n",
    "\n",
    "---"
   ]
  }
 ],
 "metadata": {
  "kernelspec": {
   "display_name": "Python 3",
   "language": "python",
   "name": "python3"
  },
  "language_info": {
   "codemirror_mode": {
    "name": "ipython",
    "version": 3
   },
   "file_extension": ".py",
   "mimetype": "text/x-python",
   "name": "python",
   "nbconvert_exporter": "python",
   "pygments_lexer": "ipython3",
   "version": "3.6.5"
  }
 },
 "nbformat": 4,
 "nbformat_minor": 2
}
