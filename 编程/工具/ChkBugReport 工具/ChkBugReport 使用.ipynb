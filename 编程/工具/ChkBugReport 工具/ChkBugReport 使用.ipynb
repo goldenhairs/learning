{
 "cells": [
  {
   "cell_type": "markdown",
   "metadata": {},
   "source": [
    "## 概述\n",
    "- ChkBugReport 工具的目的是分析处理手机上生成的 bugreport，为开发者提取尽可能多的有用数据\n",
    "- ChkBugReport 解析 bugreport 后会生成一个 bugreport_out 文件夹，打开里面的 index.html 既可以查看解析的内容\n",
    "\n",
    "## 获取工具\n",
    "- github上源代码：git clone git://github.com/sonyxperiadev/ChkBugReport.git\n",
    "- shell 脚本：http://sonyxperiadev.github.com/ChkBugReport/download/chkbugreport (启动器 shell 脚本)\n",
    "- jar 包：http://sonyxperiadev.github.com/ChkBugReport/download/chkbugreport-0.5-215.jar (应用程序本身)\n",
    "\n",
    "## 使用\n",
    "### 抓取 Bugreport\n",
    "```\n",
    "shell: adb bugreport bugreport.zip\n",
    "或者\n",
    "shell: adb bugreport > bugreport.txt\n",
    "```\n",
    "\n",
    "### 解析 Bugreport\n",
    "- 将抓取的 bugreport.zip，解压抽取出 bugreport.txt，然后将 chkbugreport.jar bugreport.txt 两个文件放在同一个文件夹下\n",
    "```\n",
    "java -jar chkbugreport.jar bugreport.txt\n",
    "```\n",
    "\n",
    "## 参考文档\n",
    "- [BugReport 分析利器 ChkBugReport](https://www.jianshu.com/p/9c4a8642ccbf)\n",
    "- [使用可视化的ChkBugreport分析log文件](https://blog.csdn.net/ysy950803/article/details/83214432)\n",
    "- [ChkBugReport使用指南](https://blog.csdn.net/gjsisi/article/details/12105145)\n",
    "\n",
    "---"
   ]
  }
 ],
 "metadata": {
  "kernelspec": {
   "display_name": "Python 3",
   "language": "python",
   "name": "python3"
  },
  "language_info": {
   "codemirror_mode": {
    "name": "ipython",
    "version": 3
   },
   "file_extension": ".py",
   "mimetype": "text/x-python",
   "name": "python",
   "nbconvert_exporter": "python",
   "pygments_lexer": "ipython3",
   "version": "3.6.5"
  }
 },
 "nbformat": 4,
 "nbformat_minor": 2
}
