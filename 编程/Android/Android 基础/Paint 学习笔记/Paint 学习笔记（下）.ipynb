{
 "cells": [
  {
   "cell_type": "markdown",
   "metadata": {},
   "source": [
    "## 0. 简介\n",
    "- 部分内容了解即可，不常用到\n",
    "- 会有些偏门的内容，目的也只是为了做到知识的全覆盖，可看可不看\n",
    "\n",
    "---"
   ]
  },
  {
   "cell_type": "markdown",
   "metadata": {},
   "source": [
    "## 1. Canvas 绘制文字的方式\n",
    "- Canvas 的文字绘制方法有三个：drawText()、drawTextRun()、drawTextOnPath()"
   ]
  },
  {
   "cell_type": "markdown",
   "metadata": {},
   "source": [
    "### 1.1 drawText(String text, float x, float y, Paint paint)\n",
    "```\n",
    "String text = \"Hello HenCoder\";\n",
    "...\n",
    "canvas.drawText(text, 200, 100, paint);\n",
    "```\n",
    "\n",
    "- text 是文字内容，x 和 y 是文字的坐标。特别注意 x 和 y 所指定的位置并不是文字的左上角。\n",
    "![image](paint2_page1.jpg)\n",
    "\n",
    "\n",
    "- 文字的对齐方式，类似于重心对其的方式，这条线就称为基线\n",
    "![image](paint2_page2.jpg)\n",
    "\n",
    "\n",
    "- x 的坐标值，是 H 字符的左边一点点\n",
    "  - 绝大多数的字符，它们的宽度都是要略微大于实际显示的宽度的\n",
    "![image](paint2_page3.jpg)"
   ]
  },
  {
   "cell_type": "markdown",
   "metadata": {},
   "source": [
    "### 1.2 drawTextRun()\n",
    "- 对中国人来说没用"
   ]
  },
  {
   "cell_type": "markdown",
   "metadata": {},
   "source": [
    "### 1.3 drawTextOnPath\n",
    " - 沿着一条 Path 来绘制文字\n",
    " - 原则：drawTextOnPath() 使用的 Path ，拐弯处全用圆角，别用尖角\n",
    " - 构造函数：drawTextOnPath(String text, Path path, float hOffset, float vOffset, Paint paint)\n",
    "   - hOffset 和 vOffset。它们是文字相对于 Path 的水平偏移量和竖直偏移量，利用它们可以调整文字的位置。例如你设置 hOffset 为 5， vOffset 为 10，文字就会右移 5 像素和下移 10 像素。\n",
    "\n",
    "```\n",
    "canvas.drawPath(path, paint); // 把 Path 也绘制出来，理解起来更方便  \n",
    "canvas.drawTextOnPath(\"Hello HeCoder\", path, 0, 0, paint);\n",
    "```\n",
    "\n",
    "![image](paint2_page4.jpg)\n",
    "\n",
    "---"
   ]
  },
  {
   "cell_type": "markdown",
   "metadata": {},
   "source": [
    "### 2. StaticLayout\n",
    "#### 2. 1 Canvas.drawText() 限制\n",
    "- 只能绘制单行的文字，而不能换行，不能在 View 的边缘自动折行\n",
    "```\n",
    "String text = \"Lorem Ipsum is simply dummy text of the printing and typesetting industry.\";\n",
    "...\n",
    "canvas.drawText(text, 50, 100, paint);\n",
    "```\n",
    "\n",
    "![image](paint2_page5.jpg)\n",
    "\n",
    "- 不能在换行符 \\n 处换行(只会增加空格)\n",
    "```\n",
    "String text = \"a\\nbc\\ndefghi\\njklm\\nnopqrst\\nuvwx\\nyz\";\n",
    "...\n",
    "canvas.drawText(text, 50, 100, paint);\n",
    "```\n",
    "\n",
    "![image](paint2_page6.jpg)"
   ]
  },
  {
   "cell_type": "markdown",
   "metadata": {},
   "source": [
    "#### 2.2 StaticLayout 介绍\n",
    "- StaticLayout 不是一个 View 或者 ViewGroup ，而是 android.text.Layout 的子类，它是纯粹用来绘制文字的。StaticLayout 支持换行，它既可以为文字设置宽度上限来让文字自动换行，也会在 \\n 处主动换行。\n",
    "\n",
    "\n",
    "- demo\n",
    "```\n",
    "String text1 = \"Lorem Ipsum is simply dummy text of the printing and typesetting industry.\";  \n",
    "StaticLayout staticLayout1 = new StaticLayout(text1, paint, 600, Layout.Alignment.ALIGN_NORMAL, 1, 0, true);\n",
    "String text2 = \"a\\nbc\\ndefghi\\njklm\\nnopqrst\\nuvwx\\nyz\";  \n",
    "StaticLayout staticLayout2 = new StaticLayout(text2, paint, 600, Layout.Alignment.ALIGN_NORMAL, 1, 0, true);\n",
    "...\n",
    "canvas.save();  \n",
    "canvas.translate(50, 100);  \n",
    "staticLayout1.draw(canvas);  \n",
    "canvas.translate(0, 200);  \n",
    "staticLayout2.draw(canvas);  \n",
    "canvas.restore(); \n",
    "```\n",
    "\n",
    "![image](paint2_page7.jpg)"
   ]
  },
  {
   "cell_type": "markdown",
   "metadata": {},
   "source": [
    "#### 2.3 StaticLayout 的构造方法\n",
    "- StaticLayout(CharSequence source, TextPaint paint, int width, Layout.Alignment align, float spacingmult, float spacingadd, boolean includepad)\n",
    "- 参数\n",
    "  - width 是文字区域的宽度，文字到达这个宽度后就会自动换行；\n",
    "  - align 是文字的对齐方向；\n",
    "  - spacingmult 是行间距的倍数，通常情况下填 1 就好；\n",
    "  - spacingadd 是行间距的额外增加值，通常情况下填 0 就好；\n",
    "  - includeadd 是指是否在文字上下添加额外的空间，来避免某些过高的字符的绘制出现越界；\n",
    "  \n",
    "---"
   ]
  },
  {
   "cell_type": "markdown",
   "metadata": {},
   "source": [
    "## 3. Paint 对文字绘制的辅助\n",
    "- 设置显示效果的和测量文字尺寸的\n",
    "\n",
    "### 3.1 设置显示效果类\n",
    "#### 3.1.1 setTextSize(float textSize)\n",
    "- 设置文字大小\n",
    "\n",
    "#### 3.1.2 setTypeface(Typeface typeface)\n",
    "- 设置字体\n",
    "\n",
    "#### 3.1.3 setFakeBoldText(boolean fakeBoldText)\n",
    "- 是否使用伪粗体\n",
    "- 它并不是通过选用更高 weight 的字体让文字变粗，而是通过程序在运行时把文字给「描粗」了\n",
    "\n",
    "#### 3.1.4 setStrikeThruText(boolean strikeThruText)\n",
    "- 是否加删除线\n",
    "\n",
    "#### 3.1.5 setUnderlineText(boolean underlineText)\n",
    "- 是否加下划线\n",
    "\n",
    "#### 3.1.6 setTextSkewX(float skewX)\n",
    "- 设置文字横向错切角度。其实就是文字倾斜度\n",
    "\n",
    "#### 3.1.7 setTextScaleX(float scaleX)\n",
    "- 设置文字横向放缩。也就是文字变胖变瘦\n",
    "```\n",
    "paint.setTextScaleX(1);  \n",
    "canvas.drawText(text, 100, 150, paint);  \n",
    "paint.setTextScaleX(0.8f);  \n",
    "canvas.drawText(text, 100, 230, paint);  \n",
    "paint.setTextScaleX(1.2f);  \n",
    "canvas.drawText(text, 100, 310, paint);\n",
    "```\n",
    "![image](paint2_page8.jpg)"
   ]
  },
  {
   "cell_type": "markdown",
   "metadata": {},
   "source": [
    "#### 3.1.8 setLetterSpacing(float letterSpacing)\n",
    "- 设置字符间距。默认值是 0\n",
    "```\n",
    "paint.setLetterSpacing(0.2f);  \n",
    "canvas.drawText(text, 100, 150, paint);\n",
    "```\n",
    "![image](paint2_page9.jpg)\n",
    "\n",
    "#### 3.1.9 setFontFeatureSettings(String settings)\n",
    "- 用 CSS 的 font-feature-settings 的方式来设置文字\n",
    "```\n",
    "paint.setFontFeatureSettings(\"smcp\"); // 设置 \"small caps\"  \n",
    "canvas.drawText(\"Hello HenCoder\", 100, 150, paint);\n",
    "```\n",
    "![image](paint2_page10.jpg)\n",
    "\n",
    "#### 3.2.10 setTextAlign(Paint.Align align)\n",
    "- 设置文字的对齐方式。一共有三个值：LEFT、CETNER 和 RIGHT。默认值为 LEFT\n",
    "![setTextAlign](paint2_page11.jpg)\n",
    "\n",
    "#### 3.2.11 setTextLocale(Locale locale) / setTextLocales(LocaleList locales)\n",
    "- 设置绘制所使用的 Locale\n",
    "- Canvas 绘制的时候，默认使用的是系统设置里的 Locale。而通过 Paint.setTextLocale(Locale locale) 就可以在不改变系统设置的情况下，直接修改绘制时的 Locale\n",
    "![image](paint2_page12.jpg)\n",
    "\n",
    "#### 3.2.12 setHinting(int mode)\n",
    "- 设置是否启用字体的 hinting(字体微调)\n",
    "- 现在的 Android 设备大多数都是是用的矢量字体。矢量字体的原理是对每个字体给出一个字形的矢量描述，然后使用这一个矢量来对所有的尺寸的字体来生成对应的字形。由于不必为所有字号都设计它们的字体形状，所以在字号较大的时候，矢量字体也能够保持字体的圆润，这是矢量字体的优势。不过当文字的尺寸过小（比如高度小于 16 像素），有些文字会由于失去过多细节而变得不太好看。 hinting 技术就是为了解决这种问题的：通过向字体中加入 hinting 信息，让矢量字体在尺寸过小的时候得到针对性的修正，从而提高显示效果。\n",
    "- 手机屏幕的像素密度已经非常高，几乎不会再出现字体尺寸小到需要靠 hinting 来修正的情况，所以这个方法其实没啥用了\n",
    "![image](paint2_page13.jpg)\n",
    "\n",
    "#### 3.2.13 setElegantTextHeight(boolean elegant)\n",
    "- 设置是否开启文字的 elegant height\n",
    "- 对中国人没用\n",
    "\n",
    "#### 3.2.14 setSubpixelText(boolean subpixelText)\n",
    "- 是否开启次像素级的抗锯齿(sub-pixel anti-aliasing)\n",
    "- 简单说就是根据程序所运行的设备的屏幕类型，来进行针对性的次像素级的抗锯齿计算，从而达到更好的抗锯齿效果\n",
    "- 手机屏幕的像素密度已经非常高，这个方法基本上没有必要使用\n",
    "- [详细介绍](http://alienryderflex.com/sub_pixel/)\n",
    "\n",
    "#### 3.2.15 setLinearText(boolean linearText)\n",
    "- 没用过，查文档\n",
    "\n",
    "---"
   ]
  },
  {
   "cell_type": "markdown",
   "metadata": {},
   "source": [
    "### 4. 测量文字尺寸类\n",
    "#### 4.1 float getFontSpacing()\n",
    "- 获取推荐的行距：即推荐的两行文字的 baseline 的距离\n",
    "- 这个值是系统根据文字的字体和字号自动计算的\n",
    "- 它的作用是当你要手动绘制多行文字（而不是使用 StaticLayout）的时候，可以在换行的时候给 y 坐标加上这个值来下移文字\n",
    "```\n",
    "canvas.drawText(texts[0], 100, 150, paint);\n",
    "canvas.drawText(texts[1], 100, 150 + paint.getFontSpacing, paint);\n",
    "canvas.drawText(texts[2], 100, 150 + paint.getFontSpacing * 2, paint);\n",
    "```\n",
    "![image](paint2_page14.jpg)"
   ]
  },
  {
   "cell_type": "markdown",
   "metadata": {},
   "source": [
    "#### 4.2 FontMetircs getFontMetrics()\n",
    "- 获取 Paint 的 FontMetrics\n",
    "- FontMetrics 是个相对专业的工具类，它提供了几个文字排印方面的数值：ascent, descent, top, bottom, leading\n",
    "\n",
    "![image](paint2_page15.jpg)\n",
    "\n",
    "- ascent / descent: 上图中绿色和橙色的线，它们的作用是限制普通字符的顶部和底部范围。普通的字符，上不会高过 ascent ，下不会低过 descent ，例如上图中大部分的字形都显示在 ascent 和  descent 两条线的范围内。具体到 Android 的绘制中， ascent 的值是图中绿线和 baseline 的相对位移，它的值为负（因为它在 baseline 的上方）； descent 的值是图中橙线和 baseline 相对位移，值为正（因为它在 baseline 的下方）。\n",
    "\n",
    "- top / bottom: 上图中蓝色和红色的线，它们的作用是限制所有字形（ glyph ）的顶部和底部范围。 \n",
    "  - 除了普通字符，有些字形的显示范围是会超过 ascent 和 descent 的，而 top 和 bottom 则限制的是所有字形的显示范围，包括这些特殊字形。例如上图的第二行文字里，就有两个泰文的字形分别超过了 ascent 和 descent 的限制，但它们都在 top 和 bottom 两条线的范围内。\n",
    "  \n",
    "- leading: 这个词在上图中没有标记出来，因为它并不是指的某条线和 baseline 的相对位移。leading 指的是行的额外间距，即对于上下相邻的两行，上行的 bottom 线和下行的 top 线的距离，也就是上图中第一行的红线和第二行的蓝线的距离（对，就是那个小细缝）。\n",
    "\n",
    "```\n",
    "FontMetrics.ascent：float 类型；\n",
    "FontMetrics.descent：float 类型；\n",
    "FontMetrics.top：float 类型；\n",
    "FontMetrics.bottom：float 类型；\n",
    "FontMetrics.leading：float 类型；\n",
    "```\n",
    "\n",
    "- ascent 和 descent 这两个值还可以通过 Paint.ascent() 和 Paint.descent() 来快捷获取\n",
    "\n",
    "- FontMetrics 和 getFontSpacing()\n",
    "  - 从定义可以看出，上图中两行文字的 font spacing (即相邻两行的 baseline 的距离) 可以通过 bottom - top + leading (top 的值为负）来计算得出\n",
    "  - 但你真的运行一下会发现， bottom - top + leading 的结果是要大于 getFontSpacing() 的返回值的\n",
    "  - 这并不是 bug，而是因为 getFontSpacing() 的结果并不是通过 FontMetrics 的标准值计算出来的，而是另外计算出来的一个值，它能够做到在两行文字不显得拥挤的前提下缩短行距，以此来得到更好的显示效果。所以如果你要对文字手动换行绘制，多数时候应该选取 getFontSpacing() 来得到行距，不但使用更简单，显示效果也会更好。\n",
    "\n",
    "- getFontMetrics() 的返回值是 FontMetrics 类型。它还有一个重载方法  getFontMetrics(FontMetrics fontMetrics) ，计算结果会直接填进传入的 FontMetrics 对象，而不是重新创建一个对象。这种用法在需要频繁获取 FontMetrics 的时候性能会好些。\n",
    "- 另外，这两个方法还有一对同样结构的对应的方法 getFontMetricsInt() 和  getFontMetricsInt(FontMetricsInt fontMetrics) ，用于获取 FontMetricsInt 类型的结果。"
   ]
  },
  {
   "cell_type": "markdown",
   "metadata": {},
   "source": [
    "#### 4.3 getTextBounds(String text, int start, int end, Rect bounds)\n",
    "- 获取文字的显示范围\n",
    "- 参数里，text 是要测量的文字，start 和 end 分别是文字的起始和结束位置，bounds 是存储文字显示范围的对象，方法在测算完成之后会把结果写进 bounds\n",
    "- 一个重载方法 getTextBounds(char[] text, int index, int count, Rect bounds)\n",
    "\n",
    "```\n",
    "paint.setStyle(Paint.Style.FILL);  \n",
    "canvas.drawText(text, offsetX, offsetY, paint);\n",
    "\n",
    "paint.getTextBounds(text, 0, text.length(), bounds);  \n",
    "bounds.left += offsetX;  \n",
    "bounds.top += offsetY;  \n",
    "bounds.right += offsetX;  \n",
    "bounds.bottom += offsetY;  \n",
    "paint.setStyle(Paint.Style.STROKE);  \n",
    "canvas.drawRect(bounds, paint);\n",
    "```"
   ]
  },
  {
   "cell_type": "markdown",
   "metadata": {},
   "source": [
    "#### 4.4 float measureText(String text)\n",
    "- 测量文字的宽度并返回\n",
    "\n",
    "![image](paint2_page16.jpg)\n",
    "\n",
    "- 如果用代码分别使用 getTextBounds() 和 measureText() 来测量文字的宽度，你会发现 measureText() 测出来的宽度总是比 getTextBounds() 大一点点。这是因为这两个方法其实测量的是两个不一样的东西\n",
    "  - getTextBounds: 它测量的是文字的显示范围（关键词：显示）。形象点来说，你这段文字外放置一个可变的矩形，然后把矩形尽可能地缩小，一直小到这个矩形恰好紧紧包裹住文字，那么这个矩形的范围，就是这段文字的 bounds。\n",
    "  - measureText: 它测量的是文字绘制时所占用的宽度（关键词：占用）。前面已经讲过，一个文字在界面中，往往需要占用比他的实际显示宽度更多一点的宽度，以此来让文字和文字之间保留一些间距，不会显得过于拥挤。上面的这幅图，我并没有设置 setLetterSpacing() ，这里的 letter spacing 是默认值 0，但你可以看到，图中每两个字母之间都是有空隙的。另外，下方那条用于表示文字宽度的横线，在左边超出了第一个字母 H 一段距离的，在右边也超出了最后一个字母 r（虽然右边这里用肉眼不太容易分辨），而就是两边的这两个「超出」，导致了 measureText() 比 getTextBounds() 测量出的宽度要大一些。"
   ]
  },
  {
   "cell_type": "markdown",
   "metadata": {},
   "source": [
    "#### 4.5 getTextWidths(String text, float[] widths)\n",
    "- 获取字符串中每个字符的宽度，并把结果填入参数 widths"
   ]
  },
  {
   "cell_type": "markdown",
   "metadata": {},
   "source": [
    "#### 4.6 int breakText(String text, boolean measureForwards, float maxWidth, float[] measuredWidth)\n",
    "- 也是用来测量文字宽度的\n",
    "- 和 measureText() 的区别是，breakText() 是在给出宽度上限的前提下测量文字的宽度。如果文字的宽度超出了上限，那么在临近超限的位置截断文字\n",
    "- breakText() 的返回值是截取的文字个数（如果宽度没有超限，则是文字的总个数）\n",
    "- 参数中，text 是要测量的文字；measureForwards 表示文字的测量方向，true 表示由左往右测量；maxWidth 是给出的宽度上限；measuredWidth 是用于接受数据，而不是用于提供数据的：方法测量完成后会把截取的文字宽度（如果宽度没有超限，则为文字总宽度）赋值给 measuredWidth[0]\n",
    "![image](paint2_page17.jpg)\n",
    "\n",
    "---"
   ]
  },
  {
   "cell_type": "markdown",
   "metadata": {},
   "source": [
    "### 5 光标相关\n",
    "- 对于 EditText 以及类似的场景，会需要绘制光标。光标的计算很麻烦，不过 API 23 引入了两个新的方法，有了这两个方法后，计算光标就方便了很多\n",
    "\n",
    "#### 5.1 getRunAdvance(CharSequence text, int start, int end, int contextStart, int contextEnd, boolean isRtl, int offset)\n",
    "- 对于一段文字，计算出某个字符处光标的 x 坐标。 start end 是文字的起始和结束坐标；contextStart contextEnd 是上下文的起始和结束坐标；isRtl 是文字的方向；offset 是字数的偏移，即计算第几个字符处的光标\n",
    "```\n",
    "int length = text.length();  \n",
    "float advance = paint.getRunAdvance(text, 0, length, 0, length, false, length);  \n",
    "canvas.drawText(text, offsetX, offsetY, paint);  \n",
    "canvas.drawLine(offsetX + advance, offsetY - 50, offsetX + advance, offsetY + 10, paint);  \n",
    "```\n",
    "![image](paint2_page18.jpg)\n",
    "\n",
    "#### 5.2 getOffsetForAdvance(CharSequence text, int start, int end, int contextStart, int contextEnd, boolean isRtl, float advance)\n",
    "- 给出一个位置的像素值，计算出文字中最接近这个位置的字符偏移量（即第几个字符最接近这个坐标）\n",
    "- 方法的参数很简单： text 是要测量的文字；start end 是文字的起始和结束坐标；contextStart contextEnd 是上下文的起始和结束坐标；isRtl 是文字方向；advance 是给出的位置的像素值。填入参数，对应的字符偏移量将作为返回值返回。\n",
    "- getOffsetForAdvance() 配合上 getRunAdvance() 一起使用，就可以实现「获取用户点击处的文字坐标」的需求。\n",
    "\n",
    "---"
   ]
  },
  {
   "cell_type": "markdown",
   "metadata": {},
   "source": [
    "### 6 其他 api\n",
    "#### 6.1 hasGlyph(String string)\n",
    "- 检查指定的字符串中是否是一个单独的字形 (glyph）。最简单的情况是，string 只有一个字母（比如 a）\n",
    "![image](paint2_page19.jpg)\n",
    "\n",
    "---"
   ]
  }
 ],
 "metadata": {
  "kernelspec": {
   "display_name": "Python 3",
   "language": "python",
   "name": "python3"
  },
  "language_info": {
   "codemirror_mode": {
    "name": "ipython",
    "version": 3
   },
   "file_extension": ".py",
   "mimetype": "text/x-python",
   "name": "python",
   "nbconvert_exporter": "python",
   "pygments_lexer": "ipython3",
   "version": "3.6.5"
  }
 },
 "nbformat": 4,
 "nbformat_minor": 2
}
