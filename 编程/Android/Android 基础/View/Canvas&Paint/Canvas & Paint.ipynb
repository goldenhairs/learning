{
 "cells": [
  {
   "cell_type": "markdown",
   "metadata": {},
   "source": [
    "## 概念\n",
    "- 整个 View 就是一个画布，即 Canvas\n",
    "- 通过 Paint 在画布上绘制内容\n",
    "\n",
    "![Canvas部分函数.png](Canvas部分函数.png)\n",
    "\n",
    "![Paint部分函数01.png](Paint部分函数01.png)\n",
    "![Paint部分函数02.png](Paint部分函数02.png)\n",
    "\n",
    "---"
   ]
  },
  {
   "cell_type": "markdown",
   "metadata": {},
   "source": [
    "### save & restore\n",
    "- 做一些特殊操作时候，不希望保存之前的状态，就可以调用 save 方法。然后调用 Canvas 的平移、缩放、裁剪等\n",
    "- 操作完成后，需要调用 restore 方法恢复状态。\n",
    "- **注意：save 和 restore 需要配对使用，restore 可以比 save 调用少，但是不能多，否则会引发异常**\n",
    "\n",
    "---"
   ]
  }
 ],
 "metadata": {
  "kernelspec": {
   "display_name": "Python 3",
   "language": "python",
   "name": "python3"
  },
  "language_info": {
   "codemirror_mode": {
    "name": "ipython",
    "version": 3
   },
   "file_extension": ".py",
   "mimetype": "text/x-python",
   "name": "python",
   "nbconvert_exporter": "python",
   "pygments_lexer": "ipython3",
   "version": "3.6.5"
  }
 },
 "nbformat": 4,
 "nbformat_minor": 2
}
