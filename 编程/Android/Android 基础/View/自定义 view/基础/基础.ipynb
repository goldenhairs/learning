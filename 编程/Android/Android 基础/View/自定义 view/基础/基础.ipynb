{
 "cells": [
  {
   "cell_type": "markdown",
   "metadata": {},
   "source": [
    "![ViewTree.png](ViewTree.png)\n",
    "\n",
    "## 实现类型\n",
    "- 继承于 View\n",
    "- 继承自现有控件(如 TextView)\n",
    "- 继承于 ViewGroup(FrameLayout)\n",
    "\n",
    "### 重点\n",
    "- View 的测量与布局\n",
    "- View 的绘制\n",
    "- 触摸事件\n",
    "- 动画\n",
    "\n",
    "---"
   ]
  },
  {
   "cell_type": "markdown",
   "metadata": {},
   "source": [
    "## 自定义 View\n",
    "- 灵活、复杂\n",
    "- onMeasure、onDraw\n",
    "\n",
    "### 步骤\n",
    "- 继承自 View 创建自定义控件\n",
    "- 如需要自定义属性，在 values/attrs.xml 中定义属性集\n",
    "- 在 xml 中引入命名空间，设置属性\n",
    "- 自定义 view 中读取属性，初始化视图\n",
    "- 测量视图大小\n",
    "- 绘制视图内容\n",
    "\n",
    "---"
   ]
  },
  {
   "cell_type": "markdown",
   "metadata": {},
   "source": [
    "## 尺寸测量\n",
    "- 创建视图时调用跟视图的 measure、layout、draw 三个函数\n",
    "- 对于非 ViewGroup 类型来说，layout 步骤是不需要的\n",
    "- 绘制流程：ViewRoot.performTraversals() -> View.measure(widthMeasureSpec, heightMeasureSpec)\n",
    "\n",
    "![SpecMode类型.png](SpecMode类型.png)\n",
    "\n",
    "- MeasureSpec:ViewRootImpl 中创建的\n",
    "  - rootDimension = MATCH_PARENT -> MeasureSpec = EXACTLY、specSize = windowSize(满屏)\n",
    "  - rootDimension = WRAP_CONTENT -> MeasureSpec = AT_MOST、specSize = windowSize(满屏)\n",
    "\n",
    "```\n",
    "private static int getRootMeasureSpec(int windowSize, int rootDimension) {\n",
    "    int measureSpec;\n",
    "    switch (rootDimension) {\n",
    "        case ViewGroup.LayoutParams.MATCH_PARENT:\n",
    "            // Window can't resize. Force root view to be windowSize.\n",
    "            measureSpec = MeasureSpec.makeMeasureSpec(windowSize, MeasureSpec.EXACTLY);\n",
    "            break;\n",
    "        case ViewGroup.LayoutParams.WRAP_CONTENT:\n",
    "            // Window can resize. Set max size for root view.\n",
    "            measureSpec = MeasureSpec.makeMeasureSpec(windowSize, MeasureSpec.AT_MOST);\n",
    "            break;\n",
    "        default:\n",
    "            // Window wants to be an exact size. Force root view to be that size.\n",
    "            measureSpec = MeasureSpec.makeMeasureSpec(rootDimension, MeasureSpec.EXACTLY);\n",
    "            break;\n",
    "    }\n",
    "    return measureSpec;\n",
    "}\n",
    "```\n",
    "\n",
    "- 自定义 View 的 onMeasure 方法\n",
    "  - 最终调用 setMeasuredDimension 函数设置该 view 的尺寸\n",
    "\n",
    "```\n",
    "private int measureWidth(int mode, int width) {\n",
    "    switch (mode) {\n",
    "        case MeasureSpec.UNSPECIFIED:\n",
    "        case MeasureSpec.AT_MOST:\n",
    "            // 使用图片宽度(WRAP_CONTENT、不指定)\n",
    "            break;\n",
    "        case MeasureSpec.EXACTLY:\n",
    "            // 使用指定宽度(MATCH_PARENT、具体值)\n",
    "            mWidth = width;\n",
    "            break;\n",
    "    }\n",
    "    return mWidth;\n",
    "}\n",
    "```\n",
    "\n",
    "---"
   ]
  }
 ],
 "metadata": {
  "kernelspec": {
   "display_name": "Python 3",
   "language": "python",
   "name": "python3"
  },
  "language_info": {
   "codemirror_mode": {
    "name": "ipython",
    "version": 3
   },
   "file_extension": ".py",
   "mimetype": "text/x-python",
   "name": "python",
   "nbconvert_exporter": "python",
   "pygments_lexer": "ipython3",
   "version": "3.6.5"
  }
 },
 "nbformat": 4,
 "nbformat_minor": 2
}
