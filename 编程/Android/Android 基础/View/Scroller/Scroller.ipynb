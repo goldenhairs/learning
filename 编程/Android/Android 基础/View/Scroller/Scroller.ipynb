{
 "cells": [
  {
   "cell_type": "markdown",
   "metadata": {},
   "source": [
    "## 概述\n",
    "- 帮助 View 滚动的辅助类\n",
    "- 通过 startScroll 来设置滚动参数，即起始坐标和 (x,y) 轴上要滚动的距离\n",
    "- 滚动周期内\n",
    "  - 1.通过 getCurX()、getCurY() 获取当前 View 位置\n",
    "  - 2.通过 scrollTo 后者 scrollBy 方法进行滚动\n",
    "  - 3.通过覆写 View 类的 computeScroll 方法来判断是否滚动完成，该方法在 View 绘制的时候被调用\n",
    "    - a. Scroller.computeScrollOffset，返回 true 表示未滚动完成，否则滚动完成\n",
    "    - b. computeScrollOffset == true 时，会调用 scrollTo 或者 scrollBy 继续滚动操作\n",
    "    - c. 且方法最后会调用 postInvalidate() 或者 invalidate() 实现 view 重绘\n",
    "    - d. 重绘后继续调用 computeScroll 方法，行程循环\n",
    "\n",
    "```\n",
    "// 滚动类\n",
    "public class ScrollLayout extends FrameLayout {\n",
    "    private final Scroller mScroller;\n",
    "    \n",
    "    public ScrollLayout(Context context) {\n",
    "        super(context);\n",
    "        mScroller = new Scroller(context);\n",
    "    }\n",
    "    \n",
    "    @Override\n",
    "    public void computeScroll() {\n",
    "        if (mScroller.computeScrollOffset()) {\n",
    "            // 滚动到此，View 应该滚动到的 x, y 坐标上\n",
    "            this.scrollTo(mScroller.getCurrX(), mScroller.getCurrY());\n",
    "            // 请求重绘该 View，从而又会导致 computeScroll 被调用，然后继续滚动\n",
    "            // 直到 computeScrollOffset 返回 false\n",
    "            this.postInvalidate();\n",
    "        }\n",
    "    }\n",
    "    \n",
    "    // 调用这个方向进行滚动，这里只滚动竖直方向\n",
    "    public void scrollTo(int y) {\n",
    "        // 参数1、参数2 为滚动的起始坐标\n",
    "        // 参数3、参数4 是需要滚动的距离\n",
    "        mScroller.startScroll(getScrollX(), getScrollY(), 0, y);\n",
    "    }\n",
    "}\n",
    "\n",
    "// 调用\n",
    "ScrollLayout scrollView = new ScrollLayout(getContext());\n",
    "scrollView.scrollTo(100);\n",
    "```\n",
    "\n",
    "---"
   ]
  },
  {
   "cell_type": "markdown",
   "metadata": {},
   "source": [
    "## 下拉刷新实现\n",
    "- 通过 Scroller 来实现下拉刷新效果\n",
    "- [Demo代码见gitub](https://github.com/hehonghui/android_my_pull_refresh_view)\n",
    "\n",
    "---"
   ]
  }
 ],
 "metadata": {
  "kernelspec": {
   "display_name": "Python 3",
   "language": "python",
   "name": "python3"
  },
  "language_info": {
   "codemirror_mode": {
    "name": "ipython",
    "version": 3
   },
   "file_extension": ".py",
   "mimetype": "text/x-python",
   "name": "python",
   "nbconvert_exporter": "python",
   "pygments_lexer": "ipython3",
   "version": "3.6.5"
  }
 },
 "nbformat": 4,
 "nbformat_minor": 2
}
