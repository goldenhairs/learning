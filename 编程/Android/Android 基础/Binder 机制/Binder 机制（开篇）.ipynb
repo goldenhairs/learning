{
 "cells": [
  {
   "cell_type": "markdown",
   "metadata": {},
   "source": [
    "## 1. 概述\n",
    "- Android 四大组件所涉及的多进程间的通信底层都是依赖于 Binder IPC 机制。例如当进程 A 中的 Activity 要向进程 B 中的 Service 通信，这便需要依赖于 Binder IPC。不仅于此，整个 Android 系统架构中，大量采用了 Binder 机制作为 IPC（进程间通信）方案，当然也存在部分其他的 IPC 式，比如 Zygote 通信便是采用 socket。\n",
    "\n",
    "---"
   ]
  },
  {
   "cell_type": "markdown",
   "metadata": {},
   "source": [
    "## 2. Binder\n",
    "### 2.1 IPC 原理\n",
    "- 每个 Android 的进程，只能运行在自己进程所拥有的虚拟地址空间\n",
    "- 对应一个 4GB 的虚拟地址空间，其中 3GB 是用户空间，1GB 是内核空间，内核空间的大小可通过参数配置调整。对于用户空间，不同进程之间彼此是不能共享的，而内核空间却是可共享的。\n",
    "- Client 进程向 Server 进程通信，恰恰是利用进程间可共享的内核内存空间来完成底层通信工作的，Client 端与 Server 端进程往往采用 ioctl 等方法跟内核空间的驱动进行交互。\n",
    "\n",
    "![image](binder0_page1.png)\n",
    "\n",
    "### 2.2 Binder 原理\n",
    "- Binder 通信采用 C/S 架构，从组件视角来说，包含 Client、Server、ServiceManager 以及 binder 驱动，其中 ServiceManager 用于管理系统中的各种服务。\n",
    "\n",
    "![image](binder0_page2.png)\n",
    "\n",
    "- 图解\n",
    "  - 无论是注册服务和获取服务的过程都需要 ServiceManager，需要注意的是此处的 Service Manager 是指 Native 层的 ServiceManager（C++），并非指 framework 层的 ServiceManager(Java)。\n",
    "  - ServiceManager 是整个 Binder 通信机制的大管家，是 Android 进程间通信机制 Binder 的守护进程。当 Service Manager 启动之后，Client 端和 Server 端通信时都需要先获取 Service Manager 接口，才能开始通信服务。\n",
    "  - 1. 注册服务(addService)：Server 进程要先注册 Service 到 ServiceManager。该过程：Server 是客户端，ServiceManager 是服务端。\n",
    "  - 2. 获取服务(getService)：Client 进程使用某个 Service 前，须先向 ServiceManager 中获取相应的 Service。该过程：Client 是客户端，ServiceManager 是服务端。\n",
    "  - 3. 使用服务：Client 根据得到的 Service 信息建立与 Service 所在的 Server 进程通信的通路，然后就可以直接与 Service 交互。该过程：client 是客户端，server 是服务端。\n",
    "  \n",
    "---"
   ]
  },
  {
   "cell_type": "markdown",
   "metadata": {},
   "source": [
    "### 2.3 C/S 模式\n",
    "- BpBinder(客户端) 和 BBinder(服务端) 都是 Android 中 Binder 通信相关的代表，它们都从 IBinder 类中派生而来\n",
    "\n",
    "![image](binder0_page3.png)\n",
    "\n",
    "- client端：BpBinder.transact() 来发送事务请求\n",
    "- server端：BBinder.onTransact() 会接收到相应事务"
   ]
  },
  {
   "cell_type": "markdown",
   "metadata": {},
   "source": [
    "## 3. 提纲\n",
    "![image](binder0_page4.png)\n",
    "\n",
    "### 第一部分\n",
    "- 首先阅读 Binder系列5 — 注册服务(addService) 和 Binder系列6 — 获取服务(getService)，这两个过程都需要于 ServiceManager 打交道\n",
    "- 这两个过程在开始之前都需要 Binder系列4 — 获取 Service Manager\n",
    "- 要获取 Service Manager，就需要 Binder系列3 — 启动 Service Manager\n",
    "- 最终调用到底层 Binder 底层驱动，这时需要了解 Binder系列1 — Binder Driver 初探和 Binder系列2 — Binder Driver 再探\n",
    "\n",
    "### 第二部分\n",
    "- 接下来，可以看看上层 Binder 系列7 — framework 层分析的 Binder 架构情况\n",
    "- 系统工程师：Binder系列8 — 如何使用 Binder\n",
    "- 应用开发工程师：Binder系列9 — 如何使用 AIDL\n",
    "- 最后是总结：Binder系列10 — 总结\n",
    "\n",
    "---"
   ]
  },
  {
   "cell_type": "markdown",
   "metadata": {},
   "source": [
    "## 4. 源码目录\n",
    "```\n",
    "/framework/base/core/java/               (Java)\n",
    "/framework/base/core/jni/                (JNI)\n",
    "/framework/native/libs/binder            (Native)\n",
    "/framework/native/cmds/servicemanager/   (Native)\n",
    "/kernel/drivers/staging/android          (Driver)\n",
    "```\n",
    "\n",
    "### 4.1 Java framework\n",
    "```\n",
    "/framework/base/core/java/android/os/  \n",
    "    - IInterface.java\n",
    "    - IBinder.java\n",
    "    - Parcel.java\n",
    "    - IServiceManager.java\n",
    "    - ServiceManager.java\n",
    "    - ServiceManagerNative.java\n",
    "    - Binder.java  \n",
    "\n",
    "/framework/base/core/jni/    \n",
    "    - android_os_Parcel.cpp\n",
    "    - AndroidRuntime.cpp\n",
    "    - android_util_Binder.cpp (核心类)\n",
    "```\n",
    "\n",
    "### 4.2 Native framework\n",
    "```\n",
    "/framework/native/libs/binder         \n",
    "    - IServiceManager.cpp\n",
    "    - BpBinder.cpp\n",
    "    - Binder.cpp\n",
    "    - IPCThreadState.cpp (核心类)\n",
    "    - ProcessState.cpp  (核心类)\n",
    "\n",
    "/framework/native/include/binder/\n",
    "    - IServiceManager.h\n",
    "    - IInterface.h\n",
    "\n",
    "/framework/native/cmds/servicemanager/\n",
    "    - service_manager.c\n",
    "    - binder.c\n",
    "```\n",
    "\n",
    "### 4.3 Kernel\n",
    "```\n",
    "/kernel/drivers/staging/android/\n",
    "    - binder.c\n",
    "    - uapi/binder.h\n",
    "```\n",
    "\n",
    "---"
   ]
  }
 ],
 "metadata": {
  "kernelspec": {
   "display_name": "Python 3",
   "language": "python",
   "name": "python3"
  },
  "language_info": {
   "codemirror_mode": {
    "name": "ipython",
    "version": 3
   },
   "file_extension": ".py",
   "mimetype": "text/x-python",
   "name": "python",
   "nbconvert_exporter": "python",
   "pygments_lexer": "ipython3",
   "version": "3.6.5"
  }
 },
 "nbformat": 4,
 "nbformat_minor": 2
}
