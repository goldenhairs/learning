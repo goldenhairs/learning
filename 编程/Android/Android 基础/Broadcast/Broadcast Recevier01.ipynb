{
 "cells": [
  {
   "cell_type": "markdown",
   "metadata": {},
   "source": [
    "## 广播三要素\n",
    "- 发送广播的 Broadcast\n",
    "- 接收广播的 BroadcastReceiver\n",
    "- 传递信息的 Intent\n",
    "\n",
    "## 分类\n",
    "- 普通广播\n",
    "- 有序广播\n",
    "- 本地广播\n",
    "- Sticky 广播\n",
    "\n",
    "---"
   ]
  },
  {
   "cell_type": "markdown",
   "metadata": {},
   "source": [
    "### 普通广播\n",
    "- Context.sendBroadcast\n",
    "- 完全异步的，传递效率比较高，revicers 的执行顺序不确定\n",
    "- 缺点：不能将处理结果传递给下一个接收者，无法终止广播的继续传递\n",
    "\n",
    "### 有序广播\n",
    "- Context.sendOrderedBroadcast\n",
    "- 按照优先级来传递，通过 revicer 的 intent-filter 中的 android:priority 属性设置，数值越大优先级越高\n",
    "- 当某一个接收者处理完后，通过 setResult、setResultExtras 函数将结果传递给下一个接收者\n",
    "- 下一个接收者通过 getResult、getResultExtras 函数来取得上一个结果\n",
    "- 可以通过 abortBroadcast 函数终止广播的传递\n",
    "\n",
    "```\n",
    "<receiver\n",
    "    android:name=\"com.demo.HelloBroadcastReceiver\">\n",
    "    <intent-filter android:priority=\"100\">\n",
    "        <action android:name=\"com.demo.hello\" />\n",
    "    </intent-filter>\n",
    "</receiver>\n",
    "\n",
    "private void sendOrderedBroadcast() {\n",
    "    sendOrderedBroadcast(new Intent(HELLO_ACTION), null);\n",
    "}\n",
    "```\n",
    "\n",
    "### 本地广播\n",
    "- 应用内使用\n",
    "![LocalBroadcast01.png](LocalBroadcast01.png)\n",
    "\n",
    "\n",
    "### sticky 广播\n",
    "- Context.sendStickyBroadcast\n",
    "- 广播会一直滞留，当有匹配的接收者被注册后，该广播就会收到消息\n",
    "- 使用此广播，需要 BROADCAST_STICKY 权限\n",
    "- 只保留最后一条广播，即使有接收者处理过了，其他新注册接收者也能收到消息\n",
    "- 如果只想处理一次，可通过 removeStickyBroadcast 来处理\n",
    "\n",
    "```\n",
    "<uses-permission\n",
    "        android:name=\"android.permission.BROADCAST_STICKY\" />\n",
    "```\n",
    "\n",
    "---"
   ]
  }
 ],
 "metadata": {
  "kernelspec": {
   "display_name": "Python 3",
   "language": "python",
   "name": "python3"
  },
  "language_info": {
   "codemirror_mode": {
    "name": "ipython",
    "version": 3
   },
   "file_extension": ".py",
   "mimetype": "text/x-python",
   "name": "python",
   "nbconvert_exporter": "python",
   "pygments_lexer": "ipython3",
   "version": "3.6.5"
  }
 },
 "nbformat": 4,
 "nbformat_minor": 2
}
