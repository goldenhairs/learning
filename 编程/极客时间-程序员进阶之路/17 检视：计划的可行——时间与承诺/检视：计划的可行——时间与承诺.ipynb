{
 "cells": [
  {
   "cell_type": "markdown",
   "metadata": {},
   "source": [
    "## 偏差\n",
    "- 70% 算作完成，30% 算作变化\n",
    "\n",
    "## 时间与周期\n",
    "- 做计划不能靠模糊的感觉，而是需要精确理性的计算\n",
    "- 去除上班、加班、睡觉、放松等事项，一年基本可以留下 2400 小时左右的业余时间，可以做计划安排\n",
    "- 选择合适的事项，匹配正确的周期，建立合理的预期，得到不断进步的反馈\n",
    "\n",
    "## 兴趣与承诺\n",
    "- 凭借兴趣驱动的尝试，结合直觉和经验就能达成 50 分的效果，而要到 90 分就需要靠技艺了\n",
    "  - 技艺的习得是靠刻意练习的，而刻意练习通常来说都不太有趣。要坚持长期的刻意练习，唯一可靠的办法就是对其做出郑重的承诺\n",
    "\n",
    "### 兴趣让计划更容易启动，而承诺让计划得以完成\n",
    "- 在现实生活中，让计划不可行或半途而废的常见错误有\n",
    "  - 以为一年之内自己有足够多的自由支配时间\n",
    "  - 对计划的事情误判了其开发与成长的周期\n",
    "  - 兴趣很多，一直在尝试，却不见有结果\n",
    "- **有限的时间，适合的周期，兴趣的选择，郑重的承诺**\n",
    "\n",
    "---"
   ]
  }
 ],
 "metadata": {
  "kernelspec": {
   "display_name": "Python 3",
   "language": "python",
   "name": "python3"
  },
  "language_info": {
   "codemirror_mode": {
    "name": "ipython",
    "version": 3
   },
   "file_extension": ".py",
   "mimetype": "text/x-python",
   "name": "python",
   "nbconvert_exporter": "python",
   "pygments_lexer": "ipython3",
   "version": "3.6.5"
  }
 },
 "nbformat": 4,
 "nbformat_minor": 2
}
