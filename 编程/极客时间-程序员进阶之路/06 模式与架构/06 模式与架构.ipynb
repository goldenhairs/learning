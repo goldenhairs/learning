{
 "cells": [
  {
   "cell_type": "markdown",
   "metadata": {},
   "source": [
    "### 设计模式\n",
    "- 模式是前人解决某类问题方式的总结，是一种解决问题域的优化路径\n",
    "- 引入模式也是有代价的。设计模式描述了抽象的概念，也就在代码层面引入了抽象，它会导致代码量和复杂度的增加\n",
    "\n",
    "### 开发框架\n",
    "- 一个框架是一个可复用的设计组件，它统一定义了高层设计和接口，使得从框架构建应用程序变得非常容易\n",
    "- 框架可以算是打开“快速开发”与“代码复用”这两扇门的钥匙\n",
    "- 如今，框架带来的束缚在于，同一个问题，会有很多不同框架可供选择。如何了解、评估、选择与取舍框架，成了新的束缚\n",
    "\n",
    "### 两者关系\n",
    "- 框架和模式的共同点在于，它们都提供了一种问题的重用解决方案\n",
    "- 框架是代码复用，模式是设计复用"
   ]
  }
 ],
 "metadata": {
  "kernelspec": {
   "display_name": "Python 3",
   "language": "python",
   "name": "python3"
  },
  "language_info": {
   "codemirror_mode": {
    "name": "ipython",
    "version": 3
   },
   "file_extension": ".py",
   "mimetype": "text/x-python",
   "name": "python",
   "nbconvert_exporter": "python",
   "pygments_lexer": "ipython3",
   "version": "3.6.5"
  }
 },
 "nbformat": 4,
 "nbformat_minor": 2
}
