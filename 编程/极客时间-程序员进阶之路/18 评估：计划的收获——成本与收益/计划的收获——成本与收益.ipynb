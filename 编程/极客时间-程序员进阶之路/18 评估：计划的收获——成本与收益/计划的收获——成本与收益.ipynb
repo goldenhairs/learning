{
 "cells": [
  {
   "cell_type": "markdown",
   "metadata": {},
   "source": [
    "## 概述\n",
    "- 如果计划的收益不能高于执行它付出的成本，那么其实这种的计划就几乎没有执行价值\n",
    "\n",
    "---"
   ]
  },
  {
   "cell_type": "markdown",
   "metadata": {},
   "source": [
    "## 成本与机会\n",
    "- 学习计划是个人成长计划中的一部分，而成长计划中，最大的成本依然是时间\n",
    "- 在你早期的学习阶段，虽然时间没那么值钱，但把钱和时间都花在加速成长上，其实是 \"成本有限，潜在收益巨大\" 的选择\n",
    "- **计划才能给你真正的自由，你对计划的控制力越强，离自由也就更近了**\n",
    "\n",
    "---"
   ]
  },
  {
   "cell_type": "markdown",
   "metadata": {},
   "source": [
    "## 结果与收益\n",
    "- 你做计划的初衷是：一点点尝试去控制自己的生活，然后得到自己想要的结果\n",
    "\n",
    "- 在获得结果的路上，这个世界上似乎有两类人\n",
    "  - 第一类人，自己给自己施加约束，保持自律并建立期望\n",
    "  - 第二类人，需要外部环境给予其约束和期望\n",
    "\n",
    "- **要获得好的结果，你就要做第一类人，需要对自己有更高的期望，需要有自驱力**\n",
    "\n",
    "- **生活也许不会像计划那样发生，但对待生活的态度可以是：期待伟大的事情发生，同时也要保持快乐和幸福，即使它没能发生**\n",
    "\n",
    "---"
   ]
  }
 ],
 "metadata": {
  "kernelspec": {
   "display_name": "Python 3",
   "language": "python",
   "name": "python3"
  },
  "language_info": {
   "codemirror_mode": {
    "name": "ipython",
    "version": 3
   },
   "file_extension": ".py",
   "mimetype": "text/x-python",
   "name": "python",
   "nbconvert_exporter": "python",
   "pygments_lexer": "ipython3",
   "version": "3.6.5"
  }
 },
 "nbformat": 4,
 "nbformat_minor": 2
}
