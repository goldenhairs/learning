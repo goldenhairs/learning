{
 "cells": [
  {
   "cell_type": "markdown",
   "metadata": {},
   "source": [
    "## 目标\n",
    "- 富有成效的计划的第一步，便是确定目标\n",
    "\n",
    "### HARD 方法\n",
    "- Heartfelt 衷心的，源自内心的\n",
    "- Animated 活生生，有画面感的\n",
    "- Required 必须的，需求明确的\n",
    "- Difficult 困难的，有难度的\n",
    "\n",
    "---"
   ]
  },
  {
   "cell_type": "markdown",
   "metadata": {},
   "source": [
    "## 方法\n",
    "- 目标是愿望层面的，计划是执行层面的，而计划的方式也有不同的认识维度\n",
    "\n",
    "\n",
    "## 时间维度\n",
    "- 可以拟定 “短、中、长” 三阶段的计划：\n",
    "  - 短期：拟定一年内的几个主要事项、行动周期和检查标准\n",
    "  - 中期：近 2～3 年内的规划，对一年内不足以取得最终成果的事项，可以分成每年的阶段性结果\n",
    "  - 长期：我的长期一般也就在 5～7 年周期，属于我的 \"一辈子\" 的概念范围了，而 \"一辈子\" 当有一个愿景\n",
    "\n",
    "## 路径维度\n",
    "- 订计划可以用一种 SMART 方法\n",
    "  - Specific  具体的\n",
    "  - Measurable 可衡量的\n",
    "  - Achievable 可实现的\n",
    "  - Relevant  相关的\n",
    "  - Time-bound 有时限的\n",
    "\n",
    "---"
   ]
  }
 ],
 "metadata": {
  "kernelspec": {
   "display_name": "Python 3",
   "language": "python",
   "name": "python3"
  },
  "language_info": {
   "codemirror_mode": {
    "name": "ipython",
    "version": 3
   },
   "file_extension": ".py",
   "mimetype": "text/x-python",
   "name": "python",
   "nbconvert_exporter": "python",
   "pygments_lexer": "ipython3",
   "version": "3.6.5"
  }
 },
 "nbformat": 4,
 "nbformat_minor": 2
}
