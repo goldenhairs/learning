{
 "cells": [
  {
   "cell_type": "markdown",
   "metadata": {},
   "source": [
    "### 打造高质量 app 为何困难\n",
    "- 设备种类繁杂、厂商定制化\n",
    "- 网络环境复杂\n",
    "- 业务功能越来越复杂\n",
    "\n",
    "---"
   ]
  },
  {
   "cell_type": "markdown",
   "metadata": {},
   "source": [
    "### 从应用交付的流程说起\n",
    "- 方法是把应用当成一件商品，想象一下商品在流水线生产的过程，那么怎样在每个步骤做好“质检”呢？\n",
    "- 一个应用至少会经过开发、编译 CI、测试、灰度和发布这几个阶段\n",
    "\n",
    "#### 开发阶段\n",
    "- 是否掌握了各种工具的使用？比如 Traceview\n",
    "\n",
    "\n",
    "#### 编译 CI 阶段\n",
    "- 如何防止代码不断恶化\n",
    "- 怎样进一步优化性能\n",
    "- d8 与 ReDex 有什么神奇的黑科技？\n",
    "- 如何利用好 Coverity、Infer 这些静态分析工具？\n",
    "\n",
    "#### 测试阶段\n",
    "- 很多时候我们不是不想测试，而是发现测不出什么问题。怎样提升实验室发现问题的能力呢？\n",
    "- 自动化测试结合 AI 或许可以帮助我们解决一些痛点\n",
    "\n",
    "#### 灰度和发布阶段\n",
    "- 动态部署流行起来之后，很多开发变得松懈起来有问题发补丁，一个不行就两个，两个不行就十个。怎样去保证产品质量？\n",
    "\n",
    "---"
   ]
  },
  {
   "cell_type": "markdown",
   "metadata": {},
   "source": [
    "### 专栏的学习方法\n",
    "- 专栏“高质量开发”模块主要对应的是开发阶段，你可以带着实践过程的困惑去深入学习开发需要的各种武器\n",
    "- 专栏“高效开发”模块主要对应编译 CI、测试、灰度和发布阶段，你可以结合实际工作全面提升整个应用交付的效率\n",
    "- “架构演进”模块和你聊聊如何设计一个好的架构，以及架构该如何选型\n",
    "![image](mode1_page1.png)\n",
    "\n",
    "---"
   ]
  },
  {
   "cell_type": "markdown",
   "metadata": {},
   "source": [
    "### 移动 APM 质量平台\n",
    "- APM 的全称是 “Application Performance Management”，即应用性能管理\n",
    "\n",
    "#### 统一管理\n",
    "- 格式统一，查询方式统一\n",
    "\n",
    "#### 统一三端\n",
    "- Android、iOS、H5\n",
    "- Weex、Flutter\n",
    "\n",
    "#### 质量平台关心什么\n",
    "![image](mode1_page2.png)\n",
    "\n",
    "#### 工作态度\n",
    "- 遇到工作中的问题，反馈问题三连击：“是我的问题吗？”“能复现吗？”“你的测试靠谱么”\n",
    "  - 找到问题的真正原因，而不是加一个空判断、加一个锁解决并发问题\n",
    "- 性能优化的关键在于如何解决存量问题，同时快速发现增量问题\n",
    "\n",
    "---"
   ]
  },
  {
   "cell_type": "markdown",
   "metadata": {},
   "source": [
    "### 项目参考 demo\n",
    "[github 地址](https://github.com/AndroidAdvanceWithGeektime)\n",
    "\n",
    "---"
   ]
  }
 ],
 "metadata": {
  "kernelspec": {
   "display_name": "Python 3",
   "language": "python",
   "name": "python3"
  },
  "language_info": {
   "codemirror_mode": {
    "name": "ipython",
    "version": 3
   },
   "file_extension": ".py",
   "mimetype": "text/x-python",
   "name": "python",
   "nbconvert_exporter": "python",
   "pygments_lexer": "ipython3",
   "version": "3.6.5"
  }
 },
 "nbformat": 4,
 "nbformat_minor": 2
}
