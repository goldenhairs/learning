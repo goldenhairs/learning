{
 "cells": [
  {
   "cell_type": "markdown",
   "metadata": {},
   "source": [
    "## 如何实现随机访问\n",
    "- 数组 (Array) 是一种线性表数据结构\n",
    "- 它用一组连续的内存空间，来存储一组具有相同类型的数据\n",
    "\n",
    "## 线性表 —— 数组、队列、链表、栈\n",
    "![image](page1.jpg)\n",
    "\n",
    "## 非线性表 —— 二叉树、堆、图\n",
    "![image](page2.jpg)\n",
    "\n",
    "## 数组的随机访问（地址连续 + 数据类型相同）\n",
    "- 根据下标访问数组的时间复杂度是 O(1)\n",
    "- 如果是顺序查找，即使是排序过的，使用二分法，时间复杂度也是 O(logn) \n",
    "![image](page3.jpg)\n",
    "\n",
    "## 低效的插入和删除\n",
    "### 插入\n",
    "- 假设数组长度 n，将新数据插入到数组的第 k 位，则需要将 k ~ n 的数据都顺序的往后挪一位\n",
    "- 最好时间复杂度：O(1) - 插在最后\n",
    "- 最坏时间复杂度：O(n) - 插在开头\n",
    "- 平均时间复杂度：O(1 + 2 + 3 ... + n) / n = O(n)\n",
    "- 如果数组是无序的，那么直接将新元素放入第 k 位，将原来第 k 位的数据放在最后即可，提高插入效率\n",
    "\n",
    "### 删除\n",
    "- 和插入类似，为了连续性，需要移动数据\n",
    "- 复杂度情况参考插入，是一致的\n",
    "- 在并不需要保证数组连续性的情况下，可以使用标记为来标记已删除的数据，在数组没有更多空间的时候，再去一次性的删除和数据迁移操作\n",
    "\n",
    "## 容器能否代替数组（ArrayList等）\n",
    "- 希望使用基本类型的，可以使用数组\n",
    "- 大小明确，操作简单，可以使用数组\n",
    "- 多维数据时，数组更直观点\n",
    "- 平时业务开发，使用容器即可，省时省力；如果是和性能特别相关的，则可以考虑使用数组\n",
    "\n",
    "## 大多数语言的数组为什么从 0 开始，而不是从 1 开始\n",
    "- 如果用 a 来表示数组的首地址，a[0] 就是偏移为 0 的位置，也就是首地址\n",
    "- a[k] 就表示偏移 k 个 type_size 的位置\n",
    "- 下标从0开始：a[k]_address = base_address + k * type_size\n",
    "- 下标从1开始：a[k]_address = base_address + (k - 1) * type_size —— 多一次剪发运算\n",
    "- 另外可能更多的是因为历史原因，C 和C++ 都是从 0 开始的，更多的是\n",
    "\n",
    "## 思考题\n",
    "- JVM 标记清除垃圾回收算\n",
    "- 二位数组的寻址公式"
   ]
  }
 ],
 "metadata": {
  "kernelspec": {
   "display_name": "Python 3",
   "language": "python",
   "name": "python3"
  },
  "language_info": {
   "codemirror_mode": {
    "name": "ipython",
    "version": 3
   },
   "file_extension": ".py",
   "mimetype": "text/x-python",
   "name": "python",
   "nbconvert_exporter": "python",
   "pygments_lexer": "ipython3",
   "version": "3.6.5"
  }
 },
 "nbformat": 4,
 "nbformat_minor": 2
}
