{
 "cells": [
  {
   "cell_type": "markdown",
   "metadata": {},
   "source": [
    "## 选择最细分最垂直的点爆发\n"
   ]
  },
  {
   "cell_type": "markdown",
   "metadata": {},
   "source": [
    "## 杂记：什么是人生商业模式？\n",
    "- 就是一个人出售自己时间的方式：不管你是谁，靠什么技能做什么工作，本质上你都是通过出售自己的时间在赚钱。\n",
    "\n",
    "### 人生商业模式分类\n",
    "- 第一类：一份时间出售 1 次\n",
    "  - 比如你上一天班8个小时，老板付你一天的工资，这8个小时你只能卖一次，收益一次\n",
    "- 第二类：同一份时间出售很多次\n",
    "  - 比如作家花一年写一本书，可以畅销十年，这就相当于通过出书，他把自己一年的时间重复卖了十年，持续收益，躺着赚钱\n",
    "- 第三类：购买他人的时间再卖出去\n",
    "  - 比如你创业做老板，招了十个员工，这相当于你花钱买了这十个人的时间，然后你再利用这十个人时间为你赚钱"
   ]
  }
 ],
 "metadata": {
  "kernelspec": {
   "display_name": "Python 3",
   "language": "python",
   "name": "python3"
  },
  "language_info": {
   "codemirror_mode": {
    "name": "ipython",
    "version": 3
   },
   "file_extension": ".py",
   "mimetype": "text/x-python",
   "name": "python",
   "nbconvert_exporter": "python",
   "pygments_lexer": "ipython3",
   "version": "3.6.5"
  }
 },
 "nbformat": 4,
 "nbformat_minor": 2
}
