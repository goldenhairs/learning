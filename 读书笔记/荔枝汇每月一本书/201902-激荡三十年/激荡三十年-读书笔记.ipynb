{
 "cells": [
  {
   "attachments": {},
   "cell_type": "markdown",
   "metadata": {},
   "source": [
    "## 读书计划\n",
    "### 第一周\n",
    "- 第一部：1978---1983：没有规则的骚动\n",
    "- 第二部：1984―― 1992：被释放的精灵\n",
    "\n",
    "### 第二周\n",
    "- 第三部：1993～1997：民族品牌进行曲\n",
    "- 第四部：1998～2002：在暴风雨中转折\n",
    "\n",
    "### 第三周\n",
    "- 第五部：2003年～2008：大国梦想成真\n",
    "\n",
    "---"
   ]
  }
 ],
 "metadata": {
  "kernelspec": {
   "display_name": "Python 3",
   "language": "python",
   "name": "python3"
  },
  "language_info": {
   "codemirror_mode": {
    "name": "ipython",
    "version": 3
   },
   "file_extension": ".py",
   "mimetype": "text/x-python",
   "name": "python",
   "nbconvert_exporter": "python",
   "pygments_lexer": "ipython3",
   "version": "3.6.5"
  }
 },
 "nbformat": 4,
 "nbformat_minor": 2
}
