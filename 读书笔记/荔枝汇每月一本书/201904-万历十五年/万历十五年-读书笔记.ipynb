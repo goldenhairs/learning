{
 "cells": [
  {
   "cell_type": "markdown",
   "metadata": {},
   "source": [
    "## 读书计划\n",
    "### 第一周：\n",
    "- 第一章: 万历皇帝\n",
    "\n",
    "### 第二周：\n",
    "- 第二章: 首辅申时行\n",
    "- 第三章: 世间已无张居正\n",
    "\n",
    "### 第三周：\n",
    "- 第四章: 活着的祖宗\n",
    "- 第五章: 海瑞——古怪的模范官僚\n",
    "\n",
    "### 第四周：\n",
    "- 第六章: 戚继光——孤独的将领\n",
    "- 第七章: 李贽——自相冲突的哲学家\n",
    "\n",
    "---"
   ]
  }
 ],
 "metadata": {
  "kernelspec": {
   "display_name": "Python 3",
   "language": "python",
   "name": "python3"
  },
  "language_info": {
   "codemirror_mode": {
    "name": "ipython",
    "version": 3
   },
   "file_extension": ".py",
   "mimetype": "text/x-python",
   "name": "python",
   "nbconvert_exporter": "python",
   "pygments_lexer": "ipython3",
   "version": "3.6.5"
  }
 },
 "nbformat": 4,
 "nbformat_minor": 2
}
