{
 "cells": [
  {
   "cell_type": "markdown",
   "metadata": {},
   "source": [
    "## 本书的阅读计划如下：\n",
    "### 第一周：\n",
    "- 第1章 坚实基础与空中楼阁\n",
    "- 第2章 大众疯狂\n",
    "- 第3章 20世纪60～90年代的股票估值\n",
    "- 第4章 史上最大泡沫：网上冲浪\n",
    "\n",
    "### 第二周：\n",
    "- 第5章 技术分析与基本面分析\n",
    "- 第6章 技术分析与随机漫步理论\n",
    "- 第7章 基本面分析究竟有多出色\n",
    "- 第8章 新款漫步鞋：现代投资组合理论\n",
    "\n",
    "### 第三周：\n",
    "- 第9章 不冒风险 焉得财富\n",
    "- 第10章 行为金融学\n",
    "- 第11章 对有效市场理论的漫射及漫射为何偏离目标\n",
    "- 第12章 随机漫步者健身手册\n",
    "\n",
    "### 第四周：\n",
    "- 第13章 金融竞赛的障碍：理解、预测股票和债券的收益\n",
    "- 第14章 生命周期投资指南\n",
    "- 第15章 三种步伐漫步华尔街\n",
    "\n",
    "---"
   ]
  }
 ],
 "metadata": {
  "kernelspec": {
   "display_name": "Python 3",
   "language": "python",
   "name": "python3"
  },
  "language_info": {
   "codemirror_mode": {
    "name": "ipython",
    "version": 3
   },
   "file_extension": ".py",
   "mimetype": "text/x-python",
   "name": "python",
   "nbconvert_exporter": "python",
   "pygments_lexer": "ipython3",
   "version": "3.6.5"
  }
 },
 "nbformat": 4,
 "nbformat_minor": 2
}
