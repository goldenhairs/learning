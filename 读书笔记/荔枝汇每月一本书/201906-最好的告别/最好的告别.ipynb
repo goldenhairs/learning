{
 "cells": [
  {
   "cell_type": "markdown",
   "metadata": {},
   "source": [
    "## 总结\n",
    "### 01 独立：活到 100 岁的代价\n",
    "- 长期的独自生活\n",
    "  - 子女可以选择做任何喜欢的工作，同任何自己喜欢的人结婚\n",
    "  - 子女会去一个自己喜欢，有发展潜力的城市\n",
    "- 随着身体功能的逐渐退化，许多基本生活需求都是需要其他人的帮助\n",
    "\n",
    "### 02 崩溃：接受变老这件事\n",
    "- 接手身体机能的衰退\n",
    "\n",
    "### 03 依赖：我们为老做好准备了吗\n",
    "- 丧失听力、记忆力，失去最好的朋友和固有的生活方式\n",
    "\n",
    "### 04 帮助：适应从家到老人院生活的转变\n",
    "- 当生命尽头来临的时候，一方面，担心犯下延长病人痛苦的错误，另一方面，害怕因为自己的预判失误，没有足够长地保持病人的生命\n",
    "- 在年老和患病的时候，人至少需要两种勇气。第一种勇气是面对人终有一死的事实的勇气。第二种勇气，依照我们发现的事实采取行动的勇气"
   ]
  },
  {
   "cell_type": "code",
   "execution_count": null,
   "metadata": {},
   "outputs": [],
   "source": []
  }
 ],
 "metadata": {
  "kernelspec": {
   "display_name": "Python 3",
   "language": "python",
   "name": "python3"
  },
  "language_info": {
   "codemirror_mode": {
    "name": "ipython",
    "version": 3
   },
   "file_extension": ".py",
   "mimetype": "text/x-python",
   "name": "python",
   "nbconvert_exporter": "python",
   "pygments_lexer": "ipython3",
   "version": "3.6.5"
  }
 },
 "nbformat": 4,
 "nbformat_minor": 2
}
