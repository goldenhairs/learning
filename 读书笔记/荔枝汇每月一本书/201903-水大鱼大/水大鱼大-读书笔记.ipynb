{
 "cells": [
  {
   "cell_type": "markdown",
   "metadata": {},
   "source": [
    "## 读书计划\n",
    "### 第一周\n",
    "- 2008：首善光标\n",
    "- 2009：哈儿建馆\n",
    "- 2010：超越日本\n",
    "\n",
    "### 第二周\n",
    "- 2011年：\"中国要歇菜了吗？\"\n",
    "  - 凡客陈年\n",
    "- 2012：落幕上半场\n",
    "\n",
    "### 第三周\n",
    "- 2012：赛道投手\n",
    "- 2013：金钱永不眠\n",
    "  - 锤子老罗\n",
    "- 2014：卷土重来的泡沫\n",
    "\n",
    "### 第四周\n",
    "- 2015年：极端的一年\n",
    "  - 女工邬霞\n",
    "- 2016：黑天鹅在飞翔\n",
    "  - 莆田医生\n",
    "\n",
    "### 第八周\n",
    "- 2017：新中产时代到来\n",
    "  - 向死而生\n",
    "- 2018：改革的\"不惑之年\"\n",
    "\n",
    "---"
   ]
  }
 ],
 "metadata": {
  "kernelspec": {
   "display_name": "Python 3",
   "language": "python",
   "name": "python3"
  },
  "language_info": {
   "codemirror_mode": {
    "name": "ipython",
    "version": 3
   },
   "file_extension": ".py",
   "mimetype": "text/x-python",
   "name": "python",
   "nbconvert_exporter": "python",
   "pygments_lexer": "ipython3",
   "version": "3.6.5"
  }
 },
 "nbformat": 4,
 "nbformat_minor": 2
}
