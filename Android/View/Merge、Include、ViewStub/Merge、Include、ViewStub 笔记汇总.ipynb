{
 "cells": [
  {
   "cell_type": "markdown",
   "metadata": {},
   "source": [
    "## include\n",
    "- <include /> 标签可以使用单独的 layout 属性，这个也是必须使用的\n",
    "- 可以使用其他属性。<include /> 标签若指定了 ID 属性，而你的 layout 也定义了 ID，则你的 layout 的 ID 会被覆盖\n",
    "- 在 include 标签中所有的 android:layout_* 都是有效的，前提是必须要写 layout_width 和 layout_height 两个属性\n",
    "- 布局中可以包含两个相同的 include 标签，引用时可以使用如下方法解决\n",
    "```\n",
    "View bookmarks_container_2 = findViewById(R.id.bookmarks_favourite);\n",
    "bookmarks_container_2.findViewById(R.id.bookmarks_list);\n",
    "```"
   ]
  },
  {
   "cell_type": "markdown",
   "metadata": {},
   "source": [
    "## merge\n",
    "- <merge/> 多用于替换 FrameLayout 或者当一个布局包含另一个时，<merge/> 标签消除视图层次结构中多余的视图组\n",
    "- 特别注意：\n",
    "  - <merge /> 只可以作为 xml layout 的根节点\n",
    "  - merge 并不是一个 ViewGroup，也不是一个 View，它相当于声明了一些视图，等待被添加\n",
    "  - 因为 merge 标签并不是 View，所以在通过 LayoutInflate.inflate 方法渲染的时候， 第二个参数必须指定一个父容器，且第三个参数必须为true，也就是必须为 merge下的视图指定一个父亲节点\n",
    "  - 因为 merge 不是 View，所以对 merge 标签设置的所有属性都是无效的"
   ]
  },
  {
   "cell_type": "markdown",
   "metadata": {},
   "source": [
    "## ViewStub\n",
    "- ViewStub 就是一个宽高都为0的一个 View，它默认是不可见的\n",
    "- 只有通过调用 setVisibility() 函数或者 Inflate() 函数才会将其要装载的目标布局给加载出来，从而达到延迟加载的效果\n",
    "- 在 ViewStub 布局可显示之前，系统不会消耗资源去实例化里面的布局，可以节省系统资源消耗\n",
    "\n",
    "### 延时加载的布局的两种方式\n",
    "- 在 xml 中使用 android:layout 属性来设置\n",
    "- 在代码中使用 ViewStub.setLayoutResource(res); 来设置\n",
    "\n",
    "### 使 ViewStub 中布局显示出来的两种方法\n",
    "- 调用 ViewStub.setVisibility(View.VISIBLE);\n",
    "- 调用 ViewStub.inflate();\n",
    "\n",
    "```\n",
    "<ViewStub\n",
    "    android:id=\"@+id/view_stub\"\n",
    "    android:layout_width=\"fill_parent\"\n",
    "    android:layout_height=\"49dp\"\n",
    "    android:layout=\"@layout/my_layout\"\n",
    "    android:inflatedId=\"@+id/view_stub_inflated_id\"\n",
    "    />\n",
    "    \n",
    "// 第一种使用方法：\n",
    "// 使用 android:layout=\"@layout/my_layout\" 设置布局\n",
    "ViewStub viewStub = (ViewStub) findViewById(R.id.view_stub);\n",
    "// 设置 setVisibility，使布局文件实例化\n",
    "viewStub.setVisibility(View.VISIBLE);  \n",
    "// 通过 ViewStub 的 xml 中的属性 inflatedId 来获取 View\n",
    "LinearLayout linearLayout = (LinearLayout) findViewById(R.id.view_stub_inflated_id);\n",
    "if (viewStub.getVisibility() == View.VISIBLE) {  \n",
    "    // 已经加载成功\n",
    "}\n",
    "\n",
    "// 第二种使用方法：\n",
    "ViewStub viewStub = (ViewStub) findViewById(R.id.view_stub);  \n",
    "viewStub.setLayoutResource(R.layout.my_layout);\n",
    "//使用 inflate，使布局文件实例化\n",
    "LinearLayout linearLayout= (LinearLayout)viewStub.inflate();\n",
    "if (linearLayout!= null) { \n",
    "    // 已经加载成功\n",
    "}\n",
    "```"
   ]
  }
 ],
 "metadata": {
  "kernelspec": {
   "display_name": "Python 3",
   "language": "python",
   "name": "python3"
  },
  "language_info": {
   "codemirror_mode": {
    "name": "ipython",
    "version": 3
   },
   "file_extension": ".py",
   "mimetype": "text/x-python",
   "name": "python",
   "nbconvert_exporter": "python",
   "pygments_lexer": "ipython3",
   "version": "3.6.5"
  }
 },
 "nbformat": 4,
 "nbformat_minor": 2
}
