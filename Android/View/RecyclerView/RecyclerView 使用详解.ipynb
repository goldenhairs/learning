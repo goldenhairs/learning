{
 "cells": [
  {
   "cell_type": "markdown",
   "metadata": {},
   "source": [
    "## RecyclerView 支持\n",
    "- 你想要控制其显示的方式，请通过布局管理器 LayoutManager\n",
    "- 你想要控制 Item 间的间隔（可绘制），请通过 ItemDecoration\n",
    "- 你想要控制 Item 增删的动画，可通过 ItemAnimator\n",
    "- 你想要控制点击、长按事件，请自己写\n",
    "\n",
    "### 基本使用步骤\n",
    "```\n",
    "mRecyclerView = findView(R.id.id_recyclerview);\n",
    "// 设置布局管理器\n",
    "mRecyclerView.setLayoutManager(layout);\n",
    "// 设置adapter\n",
    "mRecyclerView.setAdapter(adapter)\n",
    "// 设置Item增加、移除动画\n",
    "mRecyclerView.setItemAnimator(new DefaultItemAnimator());\n",
    "// 添加分割线\n",
    "mRecyclerView.addItemDecoration(new DividerItemDecoration(\n",
    "                getActivity(), DividerItemDecoration.HORIZONTAL_LIST));\n",
    "```\n",
    "\n",
    "---"
   ]
  },
  {
   "cell_type": "markdown",
   "metadata": {},
   "source": [
    "### ItemDecoration\n",
    "- 可以通过该方法添加分割线：mRecyclerView.addItemDecoration()\n",
    "- 方法的参数为 RecyclerView.ItemDecoration，该类为抽象类\n",
    "- RecyclerView 在绘制的时候，去会绘制 decorator，即调用该类的 onDraw 和 onDrawOver 方法\n",
    "  - onDraw 方法先于 drawChildren\n",
    "  - onDrawOver 在 drawChildren 之后，一般我们选择复写其中一个即可\n",
    "  - getItemOffsets 可以通过 outRect.set() 为每个 Item设置一定的偏移量，主要用于绘制 Decorator\n",
    "  \n",
    "### LayoutManager\n",
    "- 系统提供了3个实现类：\n",
    "  - LinearLayoutManager 线性管理器，支持横向、纵向\n",
    "  - GridLayoutManager 网格布局管理器\n",
    "  - StaggeredGridLayoutManager 瀑布就式布局管理器\n",
    "  \n",
    "#### StaggeredGridLayoutManager\n",
    "- 实现 GridLayoutManager 一样的功能：\n",
    "```\n",
    "// StaggeredGridLayoutManager.VERTICAL 代表有多少列：固定为4列，可上线滑动\n",
    "// StaggeredGridLayoutManager.HORIZONTAL 代表有多少行：固定为4行，可左右滑动\n",
    "mRecyclerView.setLayoutManager(new StaggeredGridLayoutManager(4, StaggeredGridLayoutManager.VERTICAL));\n",
    "```\n",
    "\n",
    "---"
   ]
  },
  {
   "cell_type": "markdown",
   "metadata": {},
   "source": [
    "### ItemAnimator\n",
    "- ItemAnimator 也是一个抽象类，系统为我们提供了一种默认的实现类\n",
    "- 注意，这里更新数据集不是用 adapter.notifyDataSetChanged() 而是 notifyItemInserted(position) 与 notifyItemRemoved(position)，否则没有动画效果\n",
    "```\n",
    "// 设置item动画\n",
    "mRecyclerView.setItemAnimator(new DefaultItemAnimator());\n",
    "```\n",
    "\n",
    "[github 参考动画](https://github.com/gabrielemariotti/RecyclerViewItemAnimators)\n",
    "\n",
    "---"
   ]
  },
  {
   "cell_type": "markdown",
   "metadata": {},
   "source": [
    "### Click and LongClick\n",
    "- 系统没有提供 ClickListener 和 LongClickListener\n",
    "- 自己添加：\n",
    "  - 通过 RecyclerView.addOnItemTouchListener 去监听然后去判断手势\n",
    "  - 通过 adapter 中自己去提供回调\n",
    "\n",
    "---"
   ]
  },
  {
   "cell_type": "markdown",
   "metadata": {},
   "source": [
    "### Adapter\n",
    "- 与 BaseAdapter 比较发生了相当大的变化，主要有3个方法：\n",
    "  - getItemCount()：获取总的条目数 \n",
    "  - onCreateViewHolder()：创建 ViewHolder \n",
    "  - onBindViewHolder()：将数据绑定至 ViewHolder\n",
    "  \n",
    "---"
   ]
  }
 ],
 "metadata": {
  "kernelspec": {
   "display_name": "Python 3",
   "language": "python",
   "name": "python3"
  },
  "language_info": {
   "codemirror_mode": {
    "name": "ipython",
    "version": 3
   },
   "file_extension": ".py",
   "mimetype": "text/x-python",
   "name": "python",
   "nbconvert_exporter": "python",
   "pygments_lexer": "ipython3",
   "version": "3.6.5"
  }
 },
 "nbformat": 4,
 "nbformat_minor": 2
}
