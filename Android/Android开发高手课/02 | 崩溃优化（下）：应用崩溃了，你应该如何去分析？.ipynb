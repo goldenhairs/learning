{
 "cells": [
  {
   "cell_type": "markdown",
   "metadata": {},
   "source": [
    "## 崩溃现场\n",
    "### 崩溃信息\n",
    "- 进程名、线程名：崩溃的进程是前台进程还是后台进程，崩溃是不是发生在 UI 线程\n",
    "- 崩溃堆栈和类型：崩溃是属于 Java 崩溃、Native 崩溃，还是 ANR，对于不同类型的崩溃我们关注的点也不太一样。特别需要看崩溃堆栈的栈顶，看具体崩溃在系统的代码，还是我们自己的代码里面\n",
    "\n",
    "```\n",
    "Process Name: 'com.sample.crash'\n",
    "Thread Name: 'MyThread'\n",
    "\n",
    "java.lang.NullPointerException\n",
    "    at ...TestsActivity.crashInJava(TestsActivity.java:275)\n",
    "```\n",
    "\n",
    "### 系统信息\n",
    "- Logcat：包括应用、系统的运行日志。由于系统权限问题，获取到的 Logcat 可能只包含与当前 App 相关的。其中系统的 event logcat 会记录 App 运行的一些基本情况，记录在文件 /system/etc/event-log-tags 中\n",
    "\n",
    "```\n",
    "system logcat:\n",
    "10-25 17:13:47.788 21430 21430 D dalvikvm: Trying to load lib ... \n",
    "\n",
    "event logcat:\n",
    "10-25 17:13:47.788 21430 21430 I am_on_resume_called: 生命周期\n",
    "10-25 17:13:47.788 21430 21430 I am_low_memory: 系统内存不足\n",
    "10-25 17:13:47.788 21430 21430 I am_destroy_activity: 销毁 Activty\n",
    "10-25 17:13:47.888 21430 21430 I am_anr: ANR 以及原因\n",
    "10-25 17:13:47.888 21430 21430 I am_kill: APP 被杀以及原因\n",
    "```\n",
    "\n",
    "- 机型、系统、厂商、CPU、ABI、Linux 版本：会采集多达几十个维度，这对后面讲到寻找共性问题会很有帮助。\n",
    "- 设备状态：是否 root、是否是模拟器。一些问题是由 Xposed 或多开软件造成，对这部分问题我们要区别对待。\n",
    "\n",
    "### 内存信息\n",
    "- "
   ]
  }
 ],
 "metadata": {
  "kernelspec": {
   "display_name": "Python 3",
   "language": "python",
   "name": "python3"
  },
  "language_info": {
   "codemirror_mode": {
    "name": "ipython",
    "version": 3
   },
   "file_extension": ".py",
   "mimetype": "text/x-python",
   "name": "python",
   "nbconvert_exporter": "python",
   "pygments_lexer": "ipython3",
   "version": "3.6.5"
  }
 },
 "nbformat": 4,
 "nbformat_minor": 2
}
