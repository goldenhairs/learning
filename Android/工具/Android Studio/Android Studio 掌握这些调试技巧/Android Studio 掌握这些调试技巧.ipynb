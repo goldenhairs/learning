{
 "cells": [
  {
   "cell_type": "markdown",
   "metadata": {},
   "source": [
    "## 日志断点\n",
    "- 打印日志也是跟踪程序分析问题的一个非常有效的手段，但是如果我们的程序已经运行并且处于调试模式，此时如果想打印日志更加直观的分析代码，难道还要停止调试、添加 Log 代码并重新编译运行吗？\n",
    "- 右键点击断点，在弹出的窗口中取消勾选 Suspeng 复选框（即表示程序运行至此断点时不会停下来供开发者调试），然后勾选Log evaluated expression:，并输入打印语句即可\n",
    "![image](https://upload-images.jianshu.io/upload_images/1094967-3c9f576b6acdf536.png?imageMogr2/auto-orient/strip%7CimageView2/2/w/1000/format/webp)\n",
    "\n",
    "---\n",
    "\n",
    "## 变量赋值\n",
    "- 利用 Debug 模式下的变量赋值(Set Value)，只需要运行一次，就能达到我们的观察效果。在使用该变量的代码处打个断点，然后在 Variables 窗口找到对应的变量，修改变量值并执行即可\n",
    "![image](https://upload-images.jianshu.io/upload_images/1094967-6efa7528258a661e.png?imageMogr2/auto-orient/strip%7CimageView2/2/w/762/format/webp)\n",
    "\n",
    "---\n",
    "\n",
    "## 方法断点\n",
    "- 如果只是为了看到方法的参数和返回结果，我们可以在定义方法的第一行打断点，直接对方法本身调试，此时断点的展示图标样式也会与众不同\n",
    "![image](https://upload-images.jianshu.io/upload_images/1094967-458bb1fdac6b1b73.png?imageMogr2/auto-orient/strip%7CimageView2/2/w/834/format/webp)\n",
    "\n",
    "---\n",
    "\n",
    "## 变量断点\n",
    "- 有时候，我们想知道自定义的变量的何时何地发生了改变，就可以使用变量断点。变量断点的图标样式也与众不同，在变量定义行打断点，开启 Debug 模式，在程序执行的过程中，如果该变量的值发生改变，程序会自动停下来，并定位在改变变量值的地方，供开发者调试\n",
    "![image](https://upload-images.jianshu.io/upload_images/1094967-863ccce360fb129b.png?imageMogr2/auto-orient/strip%7CimageView2/2/w/874/format/webp)\n",
    "\n",
    "---\n",
    "\n",
    "## 异常断点\n",
    "- 程序在执行的过程中可能会出现各种各样的未知性异常，如果能在发生异常的时候第一时间让程序停下来，并定位到异常出现的地方，供开发者调试，那当然是极好的\n",
    "- 打开断点管理器，这里有两种方式打开：点击工具栏菜单 Run，选择 View Breakpoints；在 Debug 窗口直接点击 View Breakpoints 图标。点击左上角加号按钮，可以添加各种断点，包括前文提到的 Method Breakpoints 和 Field Watchpoints 断点，这里我们选择 Exception Breakpoints 异常断点，在弹出的 Enter Exception Class 窗口中输入需要监控的异常类别即可\n",
    "![image](https://upload-images.jianshu.io/upload_images/1094967-1192432ed94c84a3.png?imageMogr2/auto-orient/strip%7CimageView2/2/w/1000/format/webp)\n",
    "\n",
    "---"
   ]
  }
 ],
 "metadata": {
  "kernelspec": {
   "display_name": "Python 3",
   "language": "python",
   "name": "python3"
  },
  "language_info": {
   "codemirror_mode": {
    "name": "ipython",
    "version": 3
   },
   "file_extension": ".py",
   "mimetype": "text/x-python",
   "name": "python",
   "nbconvert_exporter": "python",
   "pygments_lexer": "ipython3",
   "version": "3.6.5"
  }
 },
 "nbformat": 4,
 "nbformat_minor": 2
}
